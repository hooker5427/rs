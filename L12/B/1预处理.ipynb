{
 "cells": [
  {
   "cell_type": "code",
   "execution_count": 1,
   "metadata": {},
   "outputs": [],
   "source": [
    "import  numpy as np\n",
    "import pandas as pd\n",
    "import matplotlib.pyplot as plt \n",
    "%matplotlib inline"
   ]
  },
  {
   "cell_type": "code",
   "execution_count": 2,
   "metadata": {},
   "outputs": [
    {
     "name": "stderr",
     "output_type": "stream",
     "text": [
      "C:\\Users\\Administrator\\AppData\\Roaming\\Python\\Python37\\site-packages\\IPython\\core\\interactiveshell.py:3051: DtypeWarning: Columns (5,8,11,15) have mixed types.Specify dtype option on import or set low_memory=False.\n",
      "  interactivity=interactivity, compiler=compiler, result=result)\n"
     ]
    }
   ],
   "source": [
    "train_data =pd.read_csv(\"./train.csv\")\n",
    "test_data = pd.read_csv('./test.csv')"
   ]
  },
  {
   "cell_type": "code",
   "execution_count": 3,
   "metadata": {},
   "outputs": [
    {
     "data": {
      "text/plain": [
       "['fecha_dato',\n",
       " 'ncodpers',\n",
       " 'ind_empleado',\n",
       " 'pais_residencia',\n",
       " 'sexo',\n",
       " 'age',\n",
       " 'fecha_alta',\n",
       " 'ind_nuevo',\n",
       " 'antiguedad',\n",
       " 'indrel',\n",
       " 'ult_fec_cli_1t',\n",
       " 'indrel_1mes',\n",
       " 'tiprel_1mes',\n",
       " 'indresi',\n",
       " 'indext',\n",
       " 'conyuemp',\n",
       " 'canal_entrada',\n",
       " 'indfall',\n",
       " 'tipodom',\n",
       " 'cod_prov',\n",
       " 'nomprov',\n",
       " 'ind_actividad_cliente',\n",
       " 'renta',\n",
       " 'segmento',\n",
       " 'ind_ahor_fin_ult1',\n",
       " 'ind_aval_fin_ult1',\n",
       " 'ind_cco_fin_ult1',\n",
       " 'ind_cder_fin_ult1',\n",
       " 'ind_cno_fin_ult1',\n",
       " 'ind_ctju_fin_ult1',\n",
       " 'ind_ctma_fin_ult1',\n",
       " 'ind_ctop_fin_ult1',\n",
       " 'ind_ctpp_fin_ult1',\n",
       " 'ind_deco_fin_ult1',\n",
       " 'ind_deme_fin_ult1',\n",
       " 'ind_dela_fin_ult1',\n",
       " 'ind_ecue_fin_ult1',\n",
       " 'ind_fond_fin_ult1',\n",
       " 'ind_hip_fin_ult1',\n",
       " 'ind_plan_fin_ult1',\n",
       " 'ind_pres_fin_ult1',\n",
       " 'ind_reca_fin_ult1',\n",
       " 'ind_tjcr_fin_ult1',\n",
       " 'ind_valo_fin_ult1',\n",
       " 'ind_viv_fin_ult1',\n",
       " 'ind_nomina_ult1',\n",
       " 'ind_nom_pens_ult1',\n",
       " 'ind_recibo_ult1']"
      ]
     },
     "execution_count": 3,
     "metadata": {},
     "output_type": "execute_result"
    }
   ],
   "source": [
    "train_data.columns.to_list()"
   ]
  },
  {
   "cell_type": "code",
   "execution_count": 4,
   "metadata": {},
   "outputs": [
    {
     "data": {
      "text/plain": [
       "['fecha_dato',\n",
       " 'ncodpers',\n",
       " 'ind_empleado',\n",
       " 'pais_residencia',\n",
       " 'sexo',\n",
       " 'age',\n",
       " 'fecha_alta',\n",
       " 'ind_nuevo',\n",
       " 'antiguedad',\n",
       " 'indrel',\n",
       " 'ult_fec_cli_1t',\n",
       " 'indrel_1mes',\n",
       " 'tiprel_1mes',\n",
       " 'indresi',\n",
       " 'indext',\n",
       " 'conyuemp',\n",
       " 'canal_entrada',\n",
       " 'indfall',\n",
       " 'tipodom',\n",
       " 'cod_prov',\n",
       " 'nomprov',\n",
       " 'ind_actividad_cliente',\n",
       " 'renta',\n",
       " 'segmento']"
      ]
     },
     "execution_count": 4,
     "metadata": {},
     "output_type": "execute_result"
    }
   ],
   "source": [
    "test_data.columns.to_list()"
   ]
  },
  {
   "cell_type": "markdown",
   "metadata": {},
   "source": [
    "###  24 种产品"
   ]
  },
  {
   "cell_type": "code",
   "execution_count": 5,
   "metadata": {},
   "outputs": [
    {
     "name": "stdout",
     "output_type": "stream",
     "text": [
      "fecha_dato  ==== >  0.0\n",
      "ncodpers  ==== >  0.0\n",
      "ind_empleado  ==== >  0.0021469921501770426\n",
      "pais_residencia  ==== >  0.0021469921501770426\n",
      "sexo  ==== >  0.0021469921501770426\n",
      "age  ==== >  0.0\n",
      "fecha_alta  ==== >  0.0021469921501770426\n",
      "ind_nuevo  ==== >  0.0021469921501770426\n",
      "antiguedad  ==== >  0.0\n",
      "indrel  ==== >  0.0021469921501770426\n",
      "ult_fec_cli_1t  ==== >  0.9982595499934429\n",
      "indrel_1mes  ==== >  0.011521816512730203\n",
      "tiprel_1mes  ==== >  0.011521816512730203\n",
      "indresi  ==== >  0.0021469921501770426\n",
      "indext  ==== >  0.0021469921501770426\n",
      "conyuemp  ==== >  0.9999943796017011\n",
      "canal_entrada  ==== >  0.014352623789272533\n",
      "indfall  ==== >  0.0021469921501770426\n",
      "tipodom  ==== >  0.0021469921501770426\n",
      "cod_prov  ==== >  0.007061093729508965\n",
      "nomprov  ==== >  0.007061093729508965\n",
      "ind_actividad_cliente  ==== >  0.0021469921501770426\n",
      "renta  ==== >  0.20012552222867527\n",
      "segmento  ==== >  0.014579313187327875\n",
      "ind_ahor_fin_ult1  ==== >  0.0\n",
      "ind_aval_fin_ult1  ==== >  0.0\n",
      "ind_cco_fin_ult1  ==== >  0.0\n",
      "ind_cder_fin_ult1  ==== >  0.0\n",
      "ind_cno_fin_ult1  ==== >  0.0\n",
      "ind_ctju_fin_ult1  ==== >  0.0\n",
      "ind_ctma_fin_ult1  ==== >  0.0\n",
      "ind_ctop_fin_ult1  ==== >  0.0\n",
      "ind_ctpp_fin_ult1  ==== >  0.0\n",
      "ind_deco_fin_ult1  ==== >  0.0\n",
      "ind_deme_fin_ult1  ==== >  0.0\n",
      "ind_dela_fin_ult1  ==== >  0.0\n",
      "ind_ecue_fin_ult1  ==== >  0.0\n",
      "ind_fond_fin_ult1  ==== >  0.0\n",
      "ind_hip_fin_ult1  ==== >  0.0\n",
      "ind_plan_fin_ult1  ==== >  0.0\n",
      "ind_pres_fin_ult1  ==== >  0.0\n",
      "ind_reca_fin_ult1  ==== >  0.0\n",
      "ind_tjcr_fin_ult1  ==== >  0.0\n",
      "ind_valo_fin_ult1  ==== >  0.0\n",
      "ind_viv_fin_ult1  ==== >  0.0\n",
      "ind_nomina_ult1  ==== >  0.0013432751934353748\n",
      "ind_nom_pens_ult1  ==== >  0.0013432751934353748\n",
      "ind_recibo_ult1  ==== >  0.0\n"
     ]
    }
   ],
   "source": [
    "for  feature in train_data.columns:\n",
    "    print ( feature ,\" ==== > \"  ,  train_data[feature].isnull().sum()/len(train_data))"
   ]
  },
  {
   "cell_type": "code",
   "execution_count": 6,
   "metadata": {},
   "outputs": [
    {
     "name": "stdout",
     "output_type": "stream",
     "text": [
      "fecha_dato  ==== >  0.0\n",
      "ncodpers  ==== >  0.0\n",
      "ind_empleado  ==== >  0.0\n",
      "pais_residencia  ==== >  0.0\n",
      "sexo  ==== >  0.0\n",
      "age  ==== >  0.0\n",
      "fecha_alta  ==== >  0.0\n",
      "ind_nuevo  ==== >  0.0\n",
      "antiguedad  ==== >  0.0\n",
      "indrel  ==== >  0.0\n",
      "ult_fec_cli_1t  ==== >  0.9998971263973664\n",
      "indrel_1mes  ==== >  0.0\n",
      "tiprel_1mes  ==== >  0.0\n",
      "indresi  ==== >  0.0\n",
      "indext  ==== >  0.0\n",
      "conyuemp  ==== >  1.0\n",
      "canal_entrada  ==== >  6.858240175570949e-05\n",
      "indfall  ==== >  0.0\n",
      "tipodom  ==== >  0.0\n",
      "cod_prov  ==== >  0.004766476922021809\n",
      "nomprov  ==== >  0.004766476922021809\n",
      "ind_actividad_cliente  ==== >  0.0\n",
      "renta  ==== >  0.2317056443316645\n",
      "segmento  ==== >  6.858240175570949e-05\n"
     ]
    }
   ],
   "source": [
    "for  feature in test_data.columns:\n",
    "    print ( feature ,\" ==== > \"  ,  test_data[feature].isnull().sum()/len(test_data))"
   ]
  },
  {
   "cell_type": "markdown",
   "metadata": {},
   "source": [
    "##  drop feature : conyuemp  , ult_fec_cli_1t"
   ]
  },
  {
   "cell_type": "code",
   "execution_count": 7,
   "metadata": {},
   "outputs": [],
   "source": [
    "train_data.drop( [\"conyuemp\" , \"ult_fec_cli_1t\"] ,axis =1 , inplace= True )\n",
    "test_data.drop( [\"conyuemp\" , \"ult_fec_cli_1t\"] ,axis =1 , inplace= True )"
   ]
  },
  {
   "cell_type": "code",
   "execution_count": 8,
   "metadata": {},
   "outputs": [],
   "source": [
    "### 类型查看"
   ]
  },
  {
   "cell_type": "code",
   "execution_count": 9,
   "metadata": {},
   "outputs": [
    {
     "data": {
      "text/plain": [
       "fecha_dato                object\n",
       "ncodpers                   int64\n",
       "ind_empleado              object\n",
       "pais_residencia           object\n",
       "sexo                      object\n",
       "age                       object\n",
       "fecha_alta                object\n",
       "ind_nuevo                float64\n",
       "antiguedad                object\n",
       "indrel                   float64\n",
       "indrel_1mes               object\n",
       "tiprel_1mes               object\n",
       "indresi                   object\n",
       "indext                    object\n",
       "canal_entrada             object\n",
       "indfall                   object\n",
       "tipodom                  float64\n",
       "cod_prov                 float64\n",
       "nomprov                   object\n",
       "ind_actividad_cliente    float64\n",
       "renta                    float64\n",
       "segmento                  object\n",
       "ind_ahor_fin_ult1          int64\n",
       "ind_aval_fin_ult1          int64\n",
       "ind_cco_fin_ult1           int64\n",
       "ind_cder_fin_ult1          int64\n",
       "ind_cno_fin_ult1           int64\n",
       "ind_ctju_fin_ult1          int64\n",
       "ind_ctma_fin_ult1          int64\n",
       "ind_ctop_fin_ult1          int64\n",
       "ind_ctpp_fin_ult1          int64\n",
       "ind_deco_fin_ult1          int64\n",
       "ind_deme_fin_ult1          int64\n",
       "ind_dela_fin_ult1          int64\n",
       "ind_ecue_fin_ult1          int64\n",
       "ind_fond_fin_ult1          int64\n",
       "ind_hip_fin_ult1           int64\n",
       "ind_plan_fin_ult1          int64\n",
       "ind_pres_fin_ult1          int64\n",
       "ind_reca_fin_ult1          int64\n",
       "ind_tjcr_fin_ult1          int64\n",
       "ind_valo_fin_ult1          int64\n",
       "ind_viv_fin_ult1           int64\n",
       "ind_nomina_ult1          float64\n",
       "ind_nom_pens_ult1        float64\n",
       "ind_recibo_ult1            int64\n",
       "dtype: object"
      ]
     },
     "execution_count": 9,
     "metadata": {},
     "output_type": "execute_result"
    }
   ],
   "source": [
    "train_data.dtypes"
   ]
  },
  {
   "cell_type": "code",
   "execution_count": 10,
   "metadata": {},
   "outputs": [],
   "source": [
    "all_data =  pd.concat( [ train_data , test_data] , axis= 0 )"
   ]
  },
  {
   "cell_type": "code",
   "execution_count": 11,
   "metadata": {},
   "outputs": [
    {
     "data": {
      "text/html": [
       "<div>\n",
       "<style scoped>\n",
       "    .dataframe tbody tr th:only-of-type {\n",
       "        vertical-align: middle;\n",
       "    }\n",
       "\n",
       "    .dataframe tbody tr th {\n",
       "        vertical-align: top;\n",
       "    }\n",
       "\n",
       "    .dataframe thead th {\n",
       "        text-align: right;\n",
       "    }\n",
       "</style>\n",
       "<table border=\"1\" class=\"dataframe\">\n",
       "  <thead>\n",
       "    <tr style=\"text-align: right;\">\n",
       "      <th></th>\n",
       "      <th>fecha_dato</th>\n",
       "      <th>ind_empleado</th>\n",
       "      <th>pais_residencia</th>\n",
       "      <th>sexo</th>\n",
       "      <th>age</th>\n",
       "      <th>fecha_alta</th>\n",
       "      <th>antiguedad</th>\n",
       "      <th>indrel_1mes</th>\n",
       "      <th>tiprel_1mes</th>\n",
       "      <th>indresi</th>\n",
       "      <th>indext</th>\n",
       "      <th>canal_entrada</th>\n",
       "      <th>indfall</th>\n",
       "      <th>nomprov</th>\n",
       "      <th>segmento</th>\n",
       "    </tr>\n",
       "  </thead>\n",
       "  <tbody>\n",
       "    <tr>\n",
       "      <th>0</th>\n",
       "      <td>2015-01-28</td>\n",
       "      <td>N</td>\n",
       "      <td>ES</td>\n",
       "      <td>V</td>\n",
       "      <td>31</td>\n",
       "      <td>2012-08-10</td>\n",
       "      <td>35</td>\n",
       "      <td>1</td>\n",
       "      <td>A</td>\n",
       "      <td>S</td>\n",
       "      <td>N</td>\n",
       "      <td>KFC</td>\n",
       "      <td>N</td>\n",
       "      <td>TOLEDO</td>\n",
       "      <td>02 - PARTICULARES</td>\n",
       "    </tr>\n",
       "    <tr>\n",
       "      <th>1</th>\n",
       "      <td>2015-01-28</td>\n",
       "      <td>N</td>\n",
       "      <td>ES</td>\n",
       "      <td>V</td>\n",
       "      <td>37</td>\n",
       "      <td>2012-08-10</td>\n",
       "      <td>35</td>\n",
       "      <td>1</td>\n",
       "      <td>A</td>\n",
       "      <td>S</td>\n",
       "      <td>N</td>\n",
       "      <td>KAT</td>\n",
       "      <td>N</td>\n",
       "      <td>MADRID</td>\n",
       "      <td>02 - PARTICULARES</td>\n",
       "    </tr>\n",
       "    <tr>\n",
       "      <th>2</th>\n",
       "      <td>2015-01-28</td>\n",
       "      <td>N</td>\n",
       "      <td>ES</td>\n",
       "      <td>H</td>\n",
       "      <td>31</td>\n",
       "      <td>2012-08-10</td>\n",
       "      <td>35</td>\n",
       "      <td>1</td>\n",
       "      <td>A</td>\n",
       "      <td>S</td>\n",
       "      <td>N</td>\n",
       "      <td>KFC</td>\n",
       "      <td>N</td>\n",
       "      <td>VALLADOLID</td>\n",
       "      <td>03 - UNIVERSITARIO</td>\n",
       "    </tr>\n",
       "    <tr>\n",
       "      <th>3</th>\n",
       "      <td>2015-01-28</td>\n",
       "      <td>N</td>\n",
       "      <td>ES</td>\n",
       "      <td>H</td>\n",
       "      <td>23</td>\n",
       "      <td>2012-08-10</td>\n",
       "      <td>35</td>\n",
       "      <td>1</td>\n",
       "      <td>A</td>\n",
       "      <td>S</td>\n",
       "      <td>N</td>\n",
       "      <td>KHE</td>\n",
       "      <td>N</td>\n",
       "      <td>BARCELONA</td>\n",
       "      <td>03 - UNIVERSITARIO</td>\n",
       "    </tr>\n",
       "    <tr>\n",
       "      <th>4</th>\n",
       "      <td>2015-01-28</td>\n",
       "      <td>N</td>\n",
       "      <td>ES</td>\n",
       "      <td>V</td>\n",
       "      <td>23</td>\n",
       "      <td>2012-08-10</td>\n",
       "      <td>35</td>\n",
       "      <td>1</td>\n",
       "      <td>A</td>\n",
       "      <td>S</td>\n",
       "      <td>N</td>\n",
       "      <td>KHE</td>\n",
       "      <td>N</td>\n",
       "      <td>CIUDAD REAL</td>\n",
       "      <td>03 - UNIVERSITARIO</td>\n",
       "    </tr>\n",
       "    <tr>\n",
       "      <th>...</th>\n",
       "      <td>...</td>\n",
       "      <td>...</td>\n",
       "      <td>...</td>\n",
       "      <td>...</td>\n",
       "      <td>...</td>\n",
       "      <td>...</td>\n",
       "      <td>...</td>\n",
       "      <td>...</td>\n",
       "      <td>...</td>\n",
       "      <td>...</td>\n",
       "      <td>...</td>\n",
       "      <td>...</td>\n",
       "      <td>...</td>\n",
       "      <td>...</td>\n",
       "      <td>...</td>\n",
       "    </tr>\n",
       "    <tr>\n",
       "      <th>29157</th>\n",
       "      <td>2016-05-28</td>\n",
       "      <td>N</td>\n",
       "      <td>ES</td>\n",
       "      <td>V</td>\n",
       "      <td>23</td>\n",
       "      <td>2013-08-14</td>\n",
       "      <td>33</td>\n",
       "      <td>1</td>\n",
       "      <td>A</td>\n",
       "      <td>S</td>\n",
       "      <td>N</td>\n",
       "      <td>KHE</td>\n",
       "      <td>N</td>\n",
       "      <td>ALICANTE</td>\n",
       "      <td>03 - UNIVERSITARIO</td>\n",
       "    </tr>\n",
       "    <tr>\n",
       "      <th>29158</th>\n",
       "      <td>2016-05-28</td>\n",
       "      <td>N</td>\n",
       "      <td>ES</td>\n",
       "      <td>V</td>\n",
       "      <td>27</td>\n",
       "      <td>2013-08-14</td>\n",
       "      <td>33</td>\n",
       "      <td>1</td>\n",
       "      <td>I</td>\n",
       "      <td>S</td>\n",
       "      <td>N</td>\n",
       "      <td>KHE</td>\n",
       "      <td>N</td>\n",
       "      <td>VALENCIA</td>\n",
       "      <td>03 - UNIVERSITARIO</td>\n",
       "    </tr>\n",
       "    <tr>\n",
       "      <th>29159</th>\n",
       "      <td>2016-05-28</td>\n",
       "      <td>N</td>\n",
       "      <td>ES</td>\n",
       "      <td>V</td>\n",
       "      <td>23</td>\n",
       "      <td>2013-08-14</td>\n",
       "      <td>33</td>\n",
       "      <td>1</td>\n",
       "      <td>A</td>\n",
       "      <td>S</td>\n",
       "      <td>N</td>\n",
       "      <td>KHE</td>\n",
       "      <td>N</td>\n",
       "      <td>ALICANTE</td>\n",
       "      <td>03 - UNIVERSITARIO</td>\n",
       "    </tr>\n",
       "    <tr>\n",
       "      <th>29160</th>\n",
       "      <td>2016-05-28</td>\n",
       "      <td>N</td>\n",
       "      <td>ES</td>\n",
       "      <td>H</td>\n",
       "      <td>23</td>\n",
       "      <td>2013-08-14</td>\n",
       "      <td>33</td>\n",
       "      <td>1</td>\n",
       "      <td>I</td>\n",
       "      <td>S</td>\n",
       "      <td>N</td>\n",
       "      <td>KHE</td>\n",
       "      <td>N</td>\n",
       "      <td>ALICANTE</td>\n",
       "      <td>03 - UNIVERSITARIO</td>\n",
       "    </tr>\n",
       "    <tr>\n",
       "      <th>29161</th>\n",
       "      <td>2016-05-28</td>\n",
       "      <td>N</td>\n",
       "      <td>ES</td>\n",
       "      <td>H</td>\n",
       "      <td>24</td>\n",
       "      <td>2013-08-14</td>\n",
       "      <td>33</td>\n",
       "      <td>1</td>\n",
       "      <td>I</td>\n",
       "      <td>S</td>\n",
       "      <td>N</td>\n",
       "      <td>KHE</td>\n",
       "      <td>N</td>\n",
       "      <td>ZARAGOZA</td>\n",
       "      <td>03 - UNIVERSITARIO</td>\n",
       "    </tr>\n",
       "  </tbody>\n",
       "</table>\n",
       "<p>562932 rows × 15 columns</p>\n",
       "</div>"
      ],
      "text/plain": [
       "       fecha_dato ind_empleado pais_residencia sexo  age  fecha_alta  \\\n",
       "0      2015-01-28            N              ES    V   31  2012-08-10   \n",
       "1      2015-01-28            N              ES    V   37  2012-08-10   \n",
       "2      2015-01-28            N              ES    H   31  2012-08-10   \n",
       "3      2015-01-28            N              ES    H   23  2012-08-10   \n",
       "4      2015-01-28            N              ES    V   23  2012-08-10   \n",
       "...           ...          ...             ...  ...  ...         ...   \n",
       "29157  2016-05-28            N              ES    V   23  2013-08-14   \n",
       "29158  2016-05-28            N              ES    V   27  2013-08-14   \n",
       "29159  2016-05-28            N              ES    V   23  2013-08-14   \n",
       "29160  2016-05-28            N              ES    H   23  2013-08-14   \n",
       "29161  2016-05-28            N              ES    H   24  2013-08-14   \n",
       "\n",
       "      antiguedad indrel_1mes tiprel_1mes indresi indext canal_entrada indfall  \\\n",
       "0             35           1           A       S      N           KFC       N   \n",
       "1             35           1           A       S      N           KAT       N   \n",
       "2             35           1           A       S      N           KFC       N   \n",
       "3             35           1           A       S      N           KHE       N   \n",
       "4             35           1           A       S      N           KHE       N   \n",
       "...          ...         ...         ...     ...    ...           ...     ...   \n",
       "29157         33           1           A       S      N           KHE       N   \n",
       "29158         33           1           I       S      N           KHE       N   \n",
       "29159         33           1           A       S      N           KHE       N   \n",
       "29160         33           1           I       S      N           KHE       N   \n",
       "29161         33           1           I       S      N           KHE       N   \n",
       "\n",
       "           nomprov            segmento  \n",
       "0           TOLEDO   02 - PARTICULARES  \n",
       "1           MADRID   02 - PARTICULARES  \n",
       "2       VALLADOLID  03 - UNIVERSITARIO  \n",
       "3        BARCELONA  03 - UNIVERSITARIO  \n",
       "4      CIUDAD REAL  03 - UNIVERSITARIO  \n",
       "...            ...                 ...  \n",
       "29157     ALICANTE  03 - UNIVERSITARIO  \n",
       "29158     VALENCIA  03 - UNIVERSITARIO  \n",
       "29159     ALICANTE  03 - UNIVERSITARIO  \n",
       "29160     ALICANTE  03 - UNIVERSITARIO  \n",
       "29161     ZARAGOZA  03 - UNIVERSITARIO  \n",
       "\n",
       "[562932 rows x 15 columns]"
      ]
     },
     "execution_count": 11,
     "metadata": {},
     "output_type": "execute_result"
    }
   ],
   "source": [
    "categorical_features = all_data.select_dtypes(\"object\")\n",
    "categorical_features"
   ]
  },
  {
   "cell_type": "markdown",
   "metadata": {},
   "source": [
    "#### 需要进行转化 \n",
    "+  age 年龄\n",
    "+ antiguedad工龄 "
   ]
  },
  {
   "cell_type": "code",
   "execution_count": 12,
   "metadata": {},
   "outputs": [
    {
     "data": {
      "text/plain": [
       "[23,\n",
       " 22,\n",
       " 24,\n",
       " 21,\n",
       " 20,\n",
       " 25,\n",
       " 26,\n",
       " ' 23',\n",
       " 44,\n",
       " 45,\n",
       " 41,\n",
       " 43,\n",
       " 46,\n",
       " 42,\n",
       " ' 22',\n",
       " 47,\n",
       " ' 24',\n",
       " 27,\n",
       " 48,\n",
       " 40,\n",
       " 39,\n",
       " ' 21',\n",
       " 49,\n",
       " 28,\n",
       " 50,\n",
       " 38,\n",
       " 37,\n",
       " 51,\n",
       " 29,\n",
       " 52,\n",
       " 53,\n",
       " 36,\n",
       " 30,\n",
       " 35,\n",
       " ' 25',\n",
       " 54,\n",
       " 31,\n",
       " 32,\n",
       " 33,\n",
       " 55,\n",
       " 34,\n",
       " 56,\n",
       " 57,\n",
       " ' 26',\n",
       " 58,\n",
       " ' 44',\n",
       " ' 45',\n",
       " ' 43',\n",
       " 59,\n",
       " ' 41',\n",
       " ' 42',\n",
       " 60,\n",
       " ' 46',\n",
       " ' 47',\n",
       " 61,\n",
       " ' 40',\n",
       " ' 48',\n",
       " ' 39',\n",
       " ' 27',\n",
       " 62,\n",
       " ' 49',\n",
       " 63,\n",
       " ' 28',\n",
       " ' 50',\n",
       " ' 38',\n",
       " 64,\n",
       " ' 37',\n",
       " 65,\n",
       " ' 52',\n",
       " ' 51',\n",
       " 66,\n",
       " ' 53',\n",
       " ' 36',\n",
       " ' 29',\n",
       " 68,\n",
       " 67,\n",
       " 70,\n",
       " ' 54',\n",
       " 69,\n",
       " ' 35',\n",
       " ' 20',\n",
       " ' 31',\n",
       " 73,\n",
       " ' 55',\n",
       " ' 30',\n",
       " ' 32',\n",
       " 72,\n",
       " ' 56',\n",
       " ' 34',\n",
       " ' 57',\n",
       " ' 33',\n",
       " 71,\n",
       " ' 59',\n",
       " 74,\n",
       " ' 58',\n",
       " 77,\n",
       " 75,\n",
       " ' 60',\n",
       " ' 61',\n",
       " 76,\n",
       " 81,\n",
       " ' 62',\n",
       " ' 64',\n",
       " ' NA',\n",
       " ' 63',\n",
       " 82,\n",
       " 78,\n",
       " ' 65',\n",
       " 83,\n",
       " ' 66',\n",
       " 79,\n",
       " 80,\n",
       " ' 68',\n",
       " ' 67',\n",
       " 84,\n",
       " ' 69',\n",
       " ' 71',\n",
       " ' 72',\n",
       " ' 70',\n",
       " 19,\n",
       " 85,\n",
       " ' 73',\n",
       " 88,\n",
       " ' 77',\n",
       " ' 74',\n",
       " 90,\n",
       " 89,\n",
       " 87,\n",
       " ' 75',\n",
       " 86,\n",
       " ' 76',\n",
       " 91,\n",
       " ' 82',\n",
       " ' 80',\n",
       " ' 81',\n",
       " 92,\n",
       " ' 79',\n",
       " 15,\n",
       " 13,\n",
       " ' 83',\n",
       " ' 78',\n",
       " 12,\n",
       " 14,\n",
       " 93,\n",
       " ' 84',\n",
       " 17,\n",
       " 18,\n",
       " ' 85',\n",
       " 16,\n",
       " ' 88',\n",
       " 95,\n",
       " 94,\n",
       " ' 87',\n",
       " 11,\n",
       " ' 89',\n",
       " ' 86',\n",
       " ' 90',\n",
       " '41',\n",
       " ' 91',\n",
       " '43',\n",
       " 96,\n",
       " '44',\n",
       " '39',\n",
       " ' 15',\n",
       " ' 12',\n",
       " '42',\n",
       " ' 13',\n",
       " '45',\n",
       " '40',\n",
       " '38',\n",
       " ' 19',\n",
       " ' 11',\n",
       " '37',\n",
       " ' 17',\n",
       " ' 14',\n",
       " '47',\n",
       " 9,\n",
       " '46',\n",
       " 10,\n",
       " '48',\n",
       " '36',\n",
       " '49',\n",
       " ' 94',\n",
       " 97,\n",
       " '50',\n",
       " '51',\n",
       " ' 92',\n",
       " 8,\n",
       " ' 16',\n",
       " '52',\n",
       " ' 93',\n",
       " ' 18',\n",
       " '35',\n",
       " ' 95',\n",
       " ' 10',\n",
       " '56',\n",
       " '54',\n",
       " '53',\n",
       " '55',\n",
       " '  9',\n",
       " 4,\n",
       " 98,\n",
       " '33',\n",
       " '34',\n",
       " ' 96',\n",
       " '59',\n",
       " 5,\n",
       " '61',\n",
       " 6,\n",
       " '57',\n",
       " '62',\n",
       " '58',\n",
       " 99,\n",
       " '31',\n",
       " '60',\n",
       " 101,\n",
       " '32',\n",
       " '64',\n",
       " 100,\n",
       " '  8',\n",
       " '68',\n",
       " '71',\n",
       " '63',\n",
       " '65',\n",
       " '67',\n",
       " '66',\n",
       " 103,\n",
       " '70',\n",
       " '69',\n",
       " '30',\n",
       " 7,\n",
       " '73',\n",
       " 3,\n",
       " '29',\n",
       " '72',\n",
       " 105,\n",
       " '77',\n",
       " ' 97',\n",
       " 107,\n",
       " '75',\n",
       " ' 98',\n",
       " '  7',\n",
       " 104,\n",
       " '76',\n",
       " 102,\n",
       " '  6',\n",
       " '  3',\n",
       " '100',\n",
       " '  4',\n",
       " '74',\n",
       " '12',\n",
       " '80',\n",
       " '81',\n",
       " '13',\n",
       " 2,\n",
       " 108,\n",
       " '  5',\n",
       " 110,\n",
       " '28',\n",
       " '11',\n",
       " '78',\n",
       " '107',\n",
       " '101',\n",
       " '84',\n",
       " '82',\n",
       " 106,\n",
       " '25',\n",
       " '85',\n",
       " '24',\n",
       " '83',\n",
       " '19',\n",
       " ' 99',\n",
       " '79',\n",
       " '102',\n",
       " '86',\n",
       " '14',\n",
       " '105',\n",
       " '90',\n",
       " '87',\n",
       " '91',\n",
       " '23',\n",
       " '26',\n",
       " '27',\n",
       " '17',\n",
       " '18',\n",
       " '88',\n",
       " '10',\n",
       " '89',\n",
       " '20',\n",
       " '95',\n",
       " '16',\n",
       " '104',\n",
       " '96',\n",
       " '22',\n",
       " '15',\n",
       " '21',\n",
       " '93',\n",
       " '106',\n",
       " '110',\n",
       " 113,\n",
       " '  2',\n",
       " '92',\n",
       " '94',\n",
       " 114,\n",
       " '9',\n",
       " 111,\n",
       " '98',\n",
       " '8',\n",
       " '97']"
      ]
     },
     "execution_count": 12,
     "metadata": {},
     "output_type": "execute_result"
    }
   ],
   "source": [
    "all_data.age.value_counts().index.to_list() #  kao"
   ]
  },
  {
   "cell_type": "code",
   "execution_count": 13,
   "metadata": {},
   "outputs": [],
   "source": [
    "all_data.age = all_data.age.str.strip().replace(\" \" ,\"\")"
   ]
  },
  {
   "cell_type": "code",
   "execution_count": 14,
   "metadata": {},
   "outputs": [
    {
     "data": {
      "text/plain": [
       "1146"
      ]
     },
     "execution_count": 14,
     "metadata": {},
     "output_type": "execute_result"
    }
   ],
   "source": [
    "all_data.loc[all_data.age == 'NA' ,\"age\"].count()"
   ]
  },
  {
   "cell_type": "code",
   "execution_count": 15,
   "metadata": {},
   "outputs": [],
   "source": [
    "all_data.loc[all_data.age == 'NA' ,\"age\"] = '23'\n",
    "all_data.age.fillna( '23' , inplace= True )"
   ]
  },
  {
   "cell_type": "code",
   "execution_count": 16,
   "metadata": {},
   "outputs": [],
   "source": [
    "all_data.antiguedad = all_data.antiguedad.str.strip().replace(\" \" ,\"\")"
   ]
  },
  {
   "cell_type": "code",
   "execution_count": 17,
   "metadata": {},
   "outputs": [
    {
     "data": {
      "text/plain": [
       "21     4973\n",
       "12     4680\n",
       "10     4296\n",
       "33     3906\n",
       "9      3539\n",
       "       ... \n",
       "244      12\n",
       "243      12\n",
       "245       6\n",
       "246       6\n",
       "0         2\n",
       "Name: antiguedad, Length: 248, dtype: int64"
      ]
     },
     "execution_count": 17,
     "metadata": {},
     "output_type": "execute_result"
    }
   ],
   "source": [
    "all_data.antiguedad.value_counts()"
   ]
  },
  {
   "cell_type": "code",
   "execution_count": 18,
   "metadata": {},
   "outputs": [],
   "source": [
    "all_data.loc[all_data.antiguedad == 'NA' ,\"antiguedad\"] = '21'\n",
    "all_data.antiguedad.fillna('21' ,inplace= True  )"
   ]
  },
  {
   "cell_type": "code",
   "execution_count": 19,
   "metadata": {},
   "outputs": [],
   "source": [
    "all_data.age = pd.to_numeric(all_data.age).astype('int16')\n",
    "all_data.antiguedad = pd.to_numeric(all_data.antiguedad).astype('int16')"
   ]
  },
  {
   "cell_type": "code",
   "execution_count": 20,
   "metadata": {},
   "outputs": [
    {
     "data": {
      "text/plain": [
       "Index(['fecha_dato', 'ind_empleado', 'pais_residencia', 'sexo', 'fecha_alta',\n",
       "       'indrel_1mes', 'tiprel_1mes', 'indresi', 'indext', 'canal_entrada',\n",
       "       'indfall', 'nomprov', 'segmento'],\n",
       "      dtype='object')"
      ]
     },
     "execution_count": 20,
     "metadata": {},
     "output_type": "execute_result"
    }
   ],
   "source": [
    "categorical_features = all_data.select_dtypes(\"object\").columns\n",
    "categorical_features"
   ]
  },
  {
   "cell_type": "code",
   "execution_count": 21,
   "metadata": {},
   "outputs": [
    {
     "name": "stdout",
     "output_type": "stream",
     "text": [
      "fecha_dato == >  17\n",
      "ind_empleado == >  5\n",
      "pais_residencia == >  43\n",
      "sexo == >  2\n",
      "fecha_alta == >  5668\n",
      "indrel_1mes == >  13\n",
      "tiprel_1mes == >  4\n",
      "indresi == >  2\n",
      "indext == >  2\n",
      "canal_entrada == >  135\n",
      "indfall == >  2\n",
      "nomprov == >  52\n",
      "segmento == >  3\n"
     ]
    }
   ],
   "source": [
    "for  categorical_feature in categorical_features:\n",
    "    print (categorical_feature  ,\"== > \" ,  all_data[categorical_feature].nunique() ) "
   ]
  },
  {
   "cell_type": "code",
   "execution_count": 22,
   "metadata": {},
   "outputs": [
    {
     "data": {
      "text/plain": [
       "2014-07-28    2263\n",
       "2014-10-03    2222\n",
       "2013-10-14    2180\n",
       "2014-08-04    2017\n",
       "2013-08-03    1451\n",
       "              ... \n",
       "2016-04-17       3\n",
       "2006-02-04       2\n",
       "2016-02-28       2\n",
       "2016-04-24       2\n",
       "2016-04-03       1\n",
       "Name: fecha_alta, Length: 5668, dtype: int64"
      ]
     },
     "execution_count": 22,
     "metadata": {},
     "output_type": "execute_result"
    }
   ],
   "source": [
    "all_data.fecha_alta.value_counts()"
   ]
  },
  {
   "cell_type": "code",
   "execution_count": 23,
   "metadata": {},
   "outputs": [],
   "source": [
    "all_data.fecha_alta.fillna(\"2014-07-28\" , inplace= True ) "
   ]
  },
  {
   "cell_type": "code",
   "execution_count": 24,
   "metadata": {},
   "outputs": [],
   "source": [
    "all_data.pais_residencia.fillna('ES',inplace=True)"
   ]
  },
  {
   "cell_type": "code",
   "execution_count": 25,
   "metadata": {},
   "outputs": [],
   "source": [
    "for categorical_feature  in categorical_features :\n",
    "    mode= all_data[categorical_feature].value_counts().index[0]\n",
    "    all_data[categorical_feature].fillna( mode , inplace= True ) "
   ]
  },
  {
   "cell_type": "code",
   "execution_count": 26,
   "metadata": {},
   "outputs": [
    {
     "data": {
      "text/plain": [
       "fecha_dato                    0\n",
       "ncodpers                      0\n",
       "ind_empleado                  0\n",
       "pais_residencia               0\n",
       "sexo                          0\n",
       "age                           0\n",
       "fecha_alta                    0\n",
       "ind_nuevo                  1146\n",
       "antiguedad                    0\n",
       "indrel                     1146\n",
       "indrel_1mes                   0\n",
       "tiprel_1mes                   0\n",
       "indresi                       0\n",
       "indext                        0\n",
       "canal_entrada                 0\n",
       "indfall                       0\n",
       "tipodom                    1146\n",
       "cod_prov                   3908\n",
       "nomprov                       0\n",
       "ind_actividad_cliente      1146\n",
       "renta                    113578\n",
       "segmento                      0\n",
       "ind_ahor_fin_ult1         29162\n",
       "ind_aval_fin_ult1         29162\n",
       "ind_cco_fin_ult1          29162\n",
       "ind_cder_fin_ult1         29162\n",
       "ind_cno_fin_ult1          29162\n",
       "ind_ctju_fin_ult1         29162\n",
       "ind_ctma_fin_ult1         29162\n",
       "ind_ctop_fin_ult1         29162\n",
       "ind_ctpp_fin_ult1         29162\n",
       "ind_deco_fin_ult1         29162\n",
       "ind_deme_fin_ult1         29162\n",
       "ind_dela_fin_ult1         29162\n",
       "ind_ecue_fin_ult1         29162\n",
       "ind_fond_fin_ult1         29162\n",
       "ind_hip_fin_ult1          29162\n",
       "ind_plan_fin_ult1         29162\n",
       "ind_pres_fin_ult1         29162\n",
       "ind_reca_fin_ult1         29162\n",
       "ind_tjcr_fin_ult1         29162\n",
       "ind_valo_fin_ult1         29162\n",
       "ind_viv_fin_ult1          29162\n",
       "ind_nomina_ult1           29879\n",
       "ind_nom_pens_ult1         29879\n",
       "ind_recibo_ult1           29162\n",
       "dtype: int64"
      ]
     },
     "execution_count": 26,
     "metadata": {},
     "output_type": "execute_result"
    }
   ],
   "source": [
    "all_data.isna().sum()"
   ]
  },
  {
   "cell_type": "code",
   "execution_count": 27,
   "metadata": {},
   "outputs": [],
   "source": [
    "all_data.ind_nuevo.fillna(0. ,inplace= True)"
   ]
  },
  {
   "cell_type": "code",
   "execution_count": 28,
   "metadata": {},
   "outputs": [],
   "source": [
    "all_data.ind_nuevo = all_data.ind_nuevo.map( {0.0 : 0 , 1.0 :1})"
   ]
  },
  {
   "cell_type": "code",
   "execution_count": 29,
   "metadata": {},
   "outputs": [
    {
     "data": {
      "text/plain": [
       "1.0     560854\n",
       "99.0       932\n",
       "Name: indrel, dtype: int64"
      ]
     },
     "execution_count": 29,
     "metadata": {},
     "output_type": "execute_result"
    }
   ],
   "source": [
    "all_data.indrel.value_counts()"
   ]
  },
  {
   "cell_type": "code",
   "execution_count": 30,
   "metadata": {},
   "outputs": [],
   "source": [
    "all_data.indrel.fillna(1. ,inplace= True)\n",
    "all_data.indrel = all_data.indrel.map( {1.0 : 0 , 99.0 :1})"
   ]
  },
  {
   "cell_type": "code",
   "execution_count": 31,
   "metadata": {},
   "outputs": [],
   "source": [
    "all_data.drop('tipodom' ,axis =1  ,inplace= True) "
   ]
  },
  {
   "cell_type": "code",
   "execution_count": 32,
   "metadata": {},
   "outputs": [],
   "source": [
    "all_data.drop('cod_prov' ,axis =1  ,inplace= True) "
   ]
  },
  {
   "cell_type": "code",
   "execution_count": 33,
   "metadata": {},
   "outputs": [
    {
     "data": {
      "text/plain": [
       "0.0    301084\n",
       "1.0    260702\n",
       "Name: ind_actividad_cliente, dtype: int64"
      ]
     },
     "execution_count": 33,
     "metadata": {},
     "output_type": "execute_result"
    }
   ],
   "source": [
    "all_data.ind_actividad_cliente.value_counts()"
   ]
  },
  {
   "cell_type": "code",
   "execution_count": 34,
   "metadata": {},
   "outputs": [],
   "source": [
    "all_data.ind_actividad_cliente.fillna(0. , inplace= True)"
   ]
  },
  {
   "cell_type": "code",
   "execution_count": 35,
   "metadata": {},
   "outputs": [],
   "source": [
    "all_data.renta.fillna(all_data.renta.mean() ,inplace= True )"
   ]
  },
  {
   "cell_type": "code",
   "execution_count": 36,
   "metadata": {},
   "outputs": [
    {
     "data": {
      "text/plain": [
       "fecha_dato                   0\n",
       "ncodpers                     0\n",
       "ind_empleado                 0\n",
       "pais_residencia              0\n",
       "sexo                         0\n",
       "age                          0\n",
       "fecha_alta                   0\n",
       "ind_nuevo                    0\n",
       "antiguedad                   0\n",
       "indrel                       0\n",
       "indrel_1mes                  0\n",
       "tiprel_1mes                  0\n",
       "indresi                      0\n",
       "indext                       0\n",
       "canal_entrada                0\n",
       "indfall                      0\n",
       "nomprov                      0\n",
       "ind_actividad_cliente        0\n",
       "renta                        0\n",
       "segmento                     0\n",
       "ind_ahor_fin_ult1        29162\n",
       "ind_aval_fin_ult1        29162\n",
       "ind_cco_fin_ult1         29162\n",
       "ind_cder_fin_ult1        29162\n",
       "ind_cno_fin_ult1         29162\n",
       "ind_ctju_fin_ult1        29162\n",
       "ind_ctma_fin_ult1        29162\n",
       "ind_ctop_fin_ult1        29162\n",
       "ind_ctpp_fin_ult1        29162\n",
       "ind_deco_fin_ult1        29162\n",
       "ind_deme_fin_ult1        29162\n",
       "ind_dela_fin_ult1        29162\n",
       "ind_ecue_fin_ult1        29162\n",
       "ind_fond_fin_ult1        29162\n",
       "ind_hip_fin_ult1         29162\n",
       "ind_plan_fin_ult1        29162\n",
       "ind_pres_fin_ult1        29162\n",
       "ind_reca_fin_ult1        29162\n",
       "ind_tjcr_fin_ult1        29162\n",
       "ind_valo_fin_ult1        29162\n",
       "ind_viv_fin_ult1         29162\n",
       "ind_nomina_ult1          29879\n",
       "ind_nom_pens_ult1        29879\n",
       "ind_recibo_ult1          29162\n",
       "dtype: int64"
      ]
     },
     "execution_count": 36,
     "metadata": {},
     "output_type": "execute_result"
    }
   ],
   "source": [
    "all_data.isna().sum()"
   ]
  },
  {
   "cell_type": "code",
   "execution_count": 37,
   "metadata": {},
   "outputs": [
    {
     "data": {
      "text/plain": [
       "0       2012-08-10\n",
       "1       2012-08-10\n",
       "2       2012-08-10\n",
       "3       2012-08-10\n",
       "4       2012-08-10\n",
       "           ...    \n",
       "29157   2013-08-14\n",
       "29158   2013-08-14\n",
       "29159   2013-08-14\n",
       "29160   2013-08-14\n",
       "29161   2013-08-14\n",
       "Name: fecha_alta, Length: 562932, dtype: datetime64[ns]"
      ]
     },
     "execution_count": 37,
     "metadata": {},
     "output_type": "execute_result"
    }
   ],
   "source": [
    "all_data.fecha_alta = pd.to_datetime(all_data.fecha_alta)\n",
    "all_data.fecha_alta"
   ]
  },
  {
   "cell_type": "code",
   "execution_count": 38,
   "metadata": {},
   "outputs": [],
   "source": [
    "all_data['fecha_alta_year']  = all_data['fecha_alta'].dt.year"
   ]
  },
  {
   "cell_type": "code",
   "execution_count": 39,
   "metadata": {},
   "outputs": [],
   "source": [
    "all_data['fecha_alta_month']  = all_data['fecha_alta'].dt.month"
   ]
  },
  {
   "cell_type": "code",
   "execution_count": 40,
   "metadata": {},
   "outputs": [],
   "source": [
    "all_data['fecha_alta_day']  = all_data['fecha_alta'].dt.day"
   ]
  },
  {
   "cell_type": "code",
   "execution_count": 41,
   "metadata": {},
   "outputs": [],
   "source": [
    "from datetime import  datetime \n",
    "all_data['fecha_alta_weekday'] = all_data['fecha_alta'].apply(datetime.weekday  )"
   ]
  },
  {
   "cell_type": "code",
   "execution_count": null,
   "metadata": {},
   "outputs": [],
   "source": []
  },
  {
   "cell_type": "code",
   "execution_count": 42,
   "metadata": {},
   "outputs": [],
   "source": [
    "all_data.fecha_dato = pd.to_datetime(all_data.fecha_dato)\n",
    "all_data['fecha_dato_year']  = all_data['fecha_dato'].dt.year\n",
    "all_data['fecha_dato_month']  = all_data['fecha_dato'].dt.month\n",
    "all_data['fecha_dato_day']  = all_data['fecha_dato'].dt.day\n",
    "all_data['fecha_dato_weekday'] = all_data['fecha_dato'].apply(datetime.weekday)  "
   ]
  },
  {
   "cell_type": "code",
   "execution_count": 43,
   "metadata": {},
   "outputs": [],
   "source": [
    "all_data.loc[all_data.indrel_1mes == 'P' ,'indrel_1mes'] = '5.0'\n",
    "all_data.indrel_1mes = pd.to_numeric(all_data.indrel_1mes , errors='coerce')"
   ]
  },
  {
   "cell_type": "code",
   "execution_count": 44,
   "metadata": {},
   "outputs": [],
   "source": [
    "from sklearn.preprocessing import LabelEncoder \n",
    "encoder = LabelEncoder()\n",
    "for categorical_feature  in categorical_features :\n",
    "    try:\n",
    "        all_data[categorical_feature] = encoder.fit_transform(\n",
    "            all_data[categorical_feature])\n",
    "    except Exception as  e:\n",
    "        print (categorical_feature)\n",
    "        print (e)"
   ]
  },
  {
   "cell_type": "code",
   "execution_count": 45,
   "metadata": {},
   "outputs": [
    {
     "data": {
      "text/plain": [
       "fecha_dato                 int64\n",
       "ncodpers                   int64\n",
       "ind_empleado               int32\n",
       "pais_residencia            int32\n",
       "sexo                       int32\n",
       "age                        int16\n",
       "fecha_alta                 int64\n",
       "ind_nuevo                  int64\n",
       "antiguedad                 int16\n",
       "indrel                     int64\n",
       "indrel_1mes                int64\n",
       "tiprel_1mes                int32\n",
       "indresi                    int32\n",
       "indext                     int32\n",
       "canal_entrada              int32\n",
       "indfall                    int32\n",
       "nomprov                    int32\n",
       "ind_actividad_cliente    float64\n",
       "renta                    float64\n",
       "segmento                   int32\n",
       "ind_ahor_fin_ult1        float64\n",
       "ind_aval_fin_ult1        float64\n",
       "ind_cco_fin_ult1         float64\n",
       "ind_cder_fin_ult1        float64\n",
       "ind_cno_fin_ult1         float64\n",
       "ind_ctju_fin_ult1        float64\n",
       "ind_ctma_fin_ult1        float64\n",
       "ind_ctop_fin_ult1        float64\n",
       "ind_ctpp_fin_ult1        float64\n",
       "ind_deco_fin_ult1        float64\n",
       "ind_deme_fin_ult1        float64\n",
       "ind_dela_fin_ult1        float64\n",
       "ind_ecue_fin_ult1        float64\n",
       "ind_fond_fin_ult1        float64\n",
       "ind_hip_fin_ult1         float64\n",
       "ind_plan_fin_ult1        float64\n",
       "ind_pres_fin_ult1        float64\n",
       "ind_reca_fin_ult1        float64\n",
       "ind_tjcr_fin_ult1        float64\n",
       "ind_valo_fin_ult1        float64\n",
       "ind_viv_fin_ult1         float64\n",
       "ind_nomina_ult1          float64\n",
       "ind_nom_pens_ult1        float64\n",
       "ind_recibo_ult1          float64\n",
       "fecha_alta_year            int64\n",
       "fecha_alta_month           int64\n",
       "fecha_alta_day             int64\n",
       "fecha_alta_weekday         int64\n",
       "fecha_dato_year            int64\n",
       "fecha_dato_month           int64\n",
       "fecha_dato_day             int64\n",
       "fecha_dato_weekday         int64\n",
       "dtype: object"
      ]
     },
     "execution_count": 45,
     "metadata": {},
     "output_type": "execute_result"
    }
   ],
   "source": [
    "all_data.dtypes"
   ]
  },
  {
   "cell_type": "code",
   "execution_count": 46,
   "metadata": {},
   "outputs": [],
   "source": [
    "all_data.to_csv(\"processed.csv\" , index= False  )"
   ]
  },
  {
   "cell_type": "code",
   "execution_count": 48,
   "metadata": {},
   "outputs": [
    {
     "data": {
      "text/plain": [
       "['fecha_dato',\n",
       " 'ncodpers',\n",
       " 'ind_empleado',\n",
       " 'pais_residencia',\n",
       " 'sexo',\n",
       " 'age',\n",
       " 'fecha_alta',\n",
       " 'ind_nuevo',\n",
       " 'antiguedad',\n",
       " 'indrel',\n",
       " 'indrel_1mes',\n",
       " 'tiprel_1mes',\n",
       " 'indresi',\n",
       " 'indext',\n",
       " 'canal_entrada',\n",
       " 'indfall',\n",
       " 'nomprov',\n",
       " 'ind_actividad_cliente',\n",
       " 'renta',\n",
       " 'segmento',\n",
       " 'fecha_alta_year',\n",
       " 'fecha_alta_month',\n",
       " 'fecha_alta_day',\n",
       " 'fecha_alta_weekday',\n",
       " 'fecha_dato_year',\n",
       " 'fecha_dato_month',\n",
       " 'fecha_dato_day',\n",
       " 'fecha_dato_weekday']"
      ]
     },
     "execution_count": 48,
     "metadata": {},
     "output_type": "execute_result"
    }
   ],
   "source": [
    "labels = [ \n",
    "    'ind_ahor_fin_ult1',\n",
    "     'ind_aval_fin_ult1',\n",
    "     'ind_cco_fin_ult1',\n",
    "     'ind_cder_fin_ult1',\n",
    "     'ind_cno_fin_ult1',\n",
    "     'ind_ctju_fin_ult1',\n",
    "     'ind_ctma_fin_ult1',\n",
    "     'ind_ctop_fin_ult1',\n",
    "     'ind_ctpp_fin_ult1',\n",
    "     'ind_deco_fin_ult1',\n",
    "     'ind_deme_fin_ult1',\n",
    "     'ind_dela_fin_ult1',\n",
    "     'ind_ecue_fin_ult1',\n",
    "     'ind_fond_fin_ult1',\n",
    "     'ind_hip_fin_ult1',\n",
    "     'ind_plan_fin_ult1',\n",
    "     'ind_pres_fin_ult1',\n",
    "     'ind_reca_fin_ult1',\n",
    "     'ind_tjcr_fin_ult1',\n",
    "     'ind_valo_fin_ult1',\n",
    "     'ind_viv_fin_ult1',\n",
    "     'ind_nomina_ult1',\n",
    "     'ind_nom_pens_ult1',\n",
    "     'ind_recibo_ult1'] \n",
    "\n",
    "features = [  feature  for  feature in all_data.columns.to_list() if feature not in labels ]\n",
    "features"
   ]
  },
  {
   "cell_type": "code",
   "execution_count": 51,
   "metadata": {},
   "outputs": [],
   "source": [
    "columns = all_data.columns.to_list()\n",
    "feature_indices = [columns.index( feature) for feature in features ]\n",
    "label_indices = [columns.index( feature) for feature in labels  ]\n",
    "X_train = all_data.iloc[0: len(train_data) , feature_indices ]\n",
    "y_train  = all_data.iloc[0: len(train_data) , label_indices ]\n",
    "X_test = all_data.iloc[len(train_data): , feature_indices ]\n",
    "\n",
    "X_train.to_csv( 'x-train.csv' , index = False )\n",
    "y_train.to_csv(\"y_train.csv\" , index = False )\n",
    "x_test.to_csv(\"x_test.csv\"  , index = False)"
   ]
  }
 ],
 "metadata": {
  "kernelspec": {
   "display_name": "tensorflow2.1",
   "language": "python",
   "name": "tf2"
  },
  "language_info": {
   "codemirror_mode": {
    "name": "ipython",
    "version": 3
   },
   "file_extension": ".py",
   "mimetype": "text/x-python",
   "name": "python",
   "nbconvert_exporter": "python",
   "pygments_lexer": "ipython3",
   "version": "3.7.0"
  }
 },
 "nbformat": 4,
 "nbformat_minor": 4
}
