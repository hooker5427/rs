{
 "cells": [
  {
   "cell_type": "code",
   "execution_count": null,
   "metadata": {},
   "outputs": [],
   "source": [
    "import os \n",
    "\n",
    "os.chdir(r\"F:\\rs\\L5\\netflix-prize-data\")"
   ]
  },
  {
   "cell_type": "code",
   "execution_count": null,
   "metadata": {},
   "outputs": [],
   "source": [
    "paths = [ \"processdata\"+str(i+1)   for i in range(4)] \n",
    "fileapths = [ os.path.join(os.path.abspath(os.curdir) , path ) for path  in paths ]"
   ]
  },
  {
   "cell_type": "code",
   "execution_count": null,
   "metadata": {},
   "outputs": [],
   "source": [
    "allfiles =[] \n",
    "for path in fileapths  :\n",
    "    tmplist = os.listdir( path )\n",
    "    for   e  in tmplist :\n",
    "        allfiles.append( os.path.join (path , e ) )"
   ]
  },
  {
   "cell_type": "code",
   "execution_count": null,
   "metadata": {},
   "outputs": [],
   "source": [
    "def save2csv( data ,movielist , savepath ) :\n",
    "    import csv\n",
    "    with open(savepath, \"w\" , newline='') as csvfile:\n",
    "        writer = csv.writer(csvfile )\n",
    "        for i in  range(len(movielist)) :\n",
    "            writer.writerows( data[movielist[i]])\n",
    "        \n",
    "def  chagedata( filepath, savepath ) :\n",
    "    \n",
    "    f = open( filepath ,'r' ) \n",
    "    data = f.readlines()\n",
    "    f.close()\n",
    "    \n",
    "    indexlist =[] \n",
    "    for  index , line in enumerate(data) :\n",
    "        if line.find(\":\")!=-1 :\n",
    "            indexlist.append(index )\n",
    "\n",
    "    movielist = [  data[i].split(\":\")[0]  for  i in indexlist ] \n",
    "    \n",
    "    from collections import defaultdict \n",
    "    dd = defaultdict() \n",
    "    \n",
    "    i=-1 \n",
    "    for  k , line   in enumerate( data) :\n",
    "        if k not in indexlist:\n",
    "            templist  =  line.strip().split(\",\")\n",
    "            assert len(templist) == 3 \n",
    "            userid , score , date = templist[0] ,templist[1] ,templist[2] \n",
    "            dd[  movielist[i] ].append (  (userid , movielist[i] , score , date)  )\n",
    "        else :\n",
    "            i+=1\n",
    "            dd[ movielist[i] ] =[] \n",
    "    save2csv( dd ,movielist , savepath ) "
   ]
  },
  {
   "cell_type": "code",
   "execution_count": null,
   "metadata": {},
   "outputs": [],
   "source": [
    "if not os.path.exists(\"savedata\"  ):\n",
    "    os.mkdir(\"savedata\")\n",
    "savefilelist =[]\n",
    "for i in range(len(allfiles)) :\n",
    "    if i< 10 :\n",
    "        stri = \"0\" +str(i)\n",
    "    else :\n",
    "        stri = str(i)\n",
    "    path = \"savedata\"+ os.sep +stri +\".txt\"\n",
    "    path  = os.path.join(os.path.abspath(os.curdir) , path )\n",
    "    savefilelist.append(path)"
   ]
  },
  {
   "cell_type": "code",
   "execution_count": null,
   "metadata": {},
   "outputs": [],
   "source": [
    "sorted(allfiles)\n",
    "for i in range(len(allfiles)) :\n",
    "    chagedata( allfiles[i], savefilelist[i] )\n",
    "    print (\"%s 处理完毕 \" % allfiles[i])"
   ]
  },
  {
   "cell_type": "code",
   "execution_count": null,
   "metadata": {},
   "outputs": [],
   "source": []
  }
 ],
 "metadata": {
  "kernelspec": {
   "display_name": "Python 3",
   "language": "python",
   "name": "python3"
  },
  "language_info": {
   "codemirror_mode": {
    "name": "ipython",
    "version": 3
   },
   "file_extension": ".py",
   "mimetype": "text/x-python",
   "name": "python",
   "nbconvert_exporter": "python",
   "pygments_lexer": "ipython3",
   "version": "3.7.4"
  }
 },
 "nbformat": 4,
 "nbformat_minor": 4
}
