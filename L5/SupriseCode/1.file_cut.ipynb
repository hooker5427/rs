{
 "cells": [
  {
   "cell_type": "code",
   "execution_count": null,
   "metadata": {},
   "outputs": [],
   "source": [
    "import os \n",
    "os.chdir(r\"../netflix-prize-data\")"
   ]
  },
  {
   "cell_type": "code",
   "execution_count": null,
   "metadata": {},
   "outputs": [],
   "source": [
    "pathabs = os.path.abspath( os.curdir)\n",
    "tmplist =  [ os.path.join(pathabs  ,\"processdata\" +str(i+1) )  for i in range(4)  ] "
   ]
  },
  {
   "cell_type": "code",
   "execution_count": null,
   "metadata": {},
   "outputs": [],
   "source": [
    "tmplist"
   ]
  },
  {
   "cell_type": "code",
   "execution_count": null,
   "metadata": {},
   "outputs": [],
   "source": [
    "for id_  , curpath in  enumerate( tmplist , start =1 )  :\n",
    "    if  not os.path.exists(curpath ):\n",
    "        os.mkdir(curpath )\n",
    "\n",
    "    openpath =  pathabs +os.sep + \"combined_data_%s.txt\"%(id_)\n",
    "    f =  open(openpath  ,\"r\" )\n",
    "    \n",
    "    savefielist =[] \n",
    "    for i in range(25) :\n",
    "        if  i < 10 :\n",
    "            stri = \"0\" + str(i)\n",
    "        else :\n",
    "            stri = str(i)\n",
    "        filepath =curpath + os.sep + stri +\".txt\"\n",
    "        filepath  = os.path.join( os.curdir  , filepath ) \n",
    "        sf  = open(  filepath  ,  'w' ) \n",
    "        savefielist.append(sf) \n",
    "\n",
    "    linenum  = 0\n",
    "    fileid  = 0 \n",
    "    while True :\n",
    "        line = f.readline() \n",
    "        if  not line :\n",
    "            break \n",
    "        if  line.find(\":\")!= -1 and  linenum>1200000 : \n",
    "            savefielist[fileid].close()\n",
    "            fileid+=1 \n",
    "            linenum =0 \n",
    "        savefielist[fileid].write(line)\n",
    "        linenum+=1 \n",
    "\n",
    "    f.close()\n",
    "    for f in savefielist :\n",
    "        f.close ()"
   ]
  },
  {
   "cell_type": "code",
   "execution_count": null,
   "metadata": {},
   "outputs": [],
   "source": []
  }
 ],
 "metadata": {
  "kernelspec": {
   "display_name": "Python 3",
   "language": "python",
   "name": "python3"
  },
  "language_info": {
   "codemirror_mode": {
    "name": "ipython",
    "version": 3
   },
   "file_extension": ".py",
   "mimetype": "text/x-python",
   "name": "python",
   "nbconvert_exporter": "python",
   "pygments_lexer": "ipython3",
   "version": "3.7.4"
  }
 },
 "nbformat": 4,
 "nbformat_minor": 4
}
