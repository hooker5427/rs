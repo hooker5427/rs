{
 "cells": [
  {
   "cell_type": "code",
   "execution_count": null,
   "metadata": {},
   "outputs": [],
   "source": [
    "import  os \n",
    "import pandas as pd \n",
    "from collections import defaultdict"
   ]
  },
  {
   "cell_type": "code",
   "execution_count": null,
   "metadata": {},
   "outputs": [],
   "source": [
    "import os \n",
    "\n",
    "os.chdir(r\"F:\\rs\\L5\\netflix-prize-data\")"
   ]
  },
  {
   "cell_type": "code",
   "execution_count": null,
   "metadata": {},
   "outputs": [],
   "source": [
    "def get_probe_user_item( path ) :\n",
    "    print (\"go get_probe_user_item ---------------\" )\n",
    "    f = open(path , 'r')\n",
    "    data = f.readlines()\n",
    "    f.close()\n",
    "\n",
    "    indexlist  , movielist  = get_movie_list_and_index_list(data)\n",
    "    \n",
    "    dd_only_user_item = defaultdict()\n",
    "    i = -1\n",
    "    for k, line in enumerate(data):\n",
    "        if k not in indexlist:\n",
    "            userid = line.strip()\n",
    "            dd_only_user_item[movielist[i]].append(userid) \n",
    "        else:\n",
    "            i += 1\n",
    "            dd_only_user_item[movielist[i]] = []\n",
    "    return dd_only_user_item "
   ]
  },
  {
   "cell_type": "code",
   "execution_count": null,
   "metadata": {},
   "outputs": [],
   "source": [
    "def get_dd( path ) :\n",
    "    f = open(path , 'r')\n",
    "    data = f.readlines()\n",
    "    f.close()\n",
    "    \n",
    "    dd = defaultdict()\n",
    "    for line   in  data :\n",
    "        user ,item ,  rating , time_ = line.strip().split(\",\")\n",
    "        dd.setdefault(item   ,[])\n",
    "        dd[item].append(  ( user  ,item , rating ,  time_) )\n",
    "    return dd "
   ]
  },
  {
   "cell_type": "code",
   "execution_count": null,
   "metadata": {},
   "outputs": [],
   "source": [
    "def  get_movie_list_and_index_list( data ) :\n",
    "    indexlist = []\n",
    "    for index, line in enumerate(data):\n",
    "        if line.find(\":\") != -1:\n",
    "            indexlist.append(index)\n",
    "    movielist = [data[i].split(\":\")[0] for i in indexlist]\n",
    "    return  indexlist , movielist\n"
   ]
  },
  {
   "cell_type": "code",
   "execution_count": null,
   "metadata": {},
   "outputs": [],
   "source": [
    "def savetocsv( data ,  savepath ) :\n",
    "    import csv \n",
    "    with open( savepath , 'w'  , newline='') as  f :\n",
    "        names = [\"userid\" ,'movieid' ,'rating' ,\"time_\"]\n",
    "        writer  = csv.writer(f)\n",
    "        writer.writerow( names)\n",
    "        writer.writerows(data) "
   ]
  },
  {
   "cell_type": "code",
   "execution_count": null,
   "metadata": {},
   "outputs": [],
   "source": [
    "rawpathdir = \"./savedata/\"\n",
    "rawpathlist = []\n",
    "for   path in os.listdir(rawpathdir  ) :\n",
    "    newpath =  os.path.abspath(os.path.join(  rawpathdir , path )) \n",
    "    rawpathlist .append( newpath)\n",
    "sorted( rawpathlist) \n",
    "\n",
    "dd_only_user_item = get_probe_user_item( \"./probe.txt\" )\n",
    "\n",
    "print (\"dd only user  item  create sucessful \")\n",
    "\n",
    "\n",
    "for  j in  range(len(rawpathlist)) :\n",
    "    rawpath  = rawpathlist[j]\n",
    "    print (\"开始处理 , \" , rawpathlist[j]  )\n",
    "    ddr =  get_dd( rawpathlist[j]  ) \n",
    "    print (\"原始数据加载完毕, \",rawpathlist[j] )\n",
    "\n",
    "    # 寻找\n",
    "    ddrint =  [  int(x ) for x   in  list(ddr.keys()) ] \n",
    "    ddrmaxk  = max( ddrint )\n",
    "    tolist =[] \n",
    "    for k in ddr.keys() :\n",
    "        if k in  dd_only_user_item.keys():\n",
    "            tolist.append(k)\n",
    "    result  =[] \n",
    "    for  k in tolist:\n",
    "        try :\n",
    "            for  user in dd_only_user_item [k] :\n",
    "                x  =0 \n",
    "                users = [ line[0] for line in  ddr[k] ] \n",
    "                ix = users.index(user) \n",
    "                rating  = ddr[k][ix][2]\n",
    "                timestamp  = ddr[k][ix][3]\n",
    "                result.append((user  ,k , rating ,timestamp )) \n",
    "            print ( k, \"----------------------------------\")\n",
    "        except Exception as  e :\n",
    "            pass \n",
    "    savepath  =\"probegoodX%s.csv\"%(str ( j ))\n",
    "    savetocsv( result ,  savepath )\n",
    "    print(\"保存%s成功了\"%str( savepath)) "
   ]
  },
  {
   "cell_type": "code",
   "execution_count": null,
   "metadata": {},
   "outputs": [],
   "source": []
  }
 ],
 "metadata": {
  "kernelspec": {
   "display_name": "Python 3",
   "language": "python",
   "name": "python3"
  },
  "language_info": {
   "codemirror_mode": {
    "name": "ipython",
    "version": 3
   },
   "file_extension": ".py",
   "mimetype": "text/x-python",
   "name": "python",
   "nbconvert_exporter": "python",
   "pygments_lexer": "ipython3",
   "version": "3.7.4"
  }
 },
 "nbformat": 4,
 "nbformat_minor": 4
}
