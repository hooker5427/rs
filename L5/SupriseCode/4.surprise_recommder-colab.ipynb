{
 "cells": [
  {
   "cell_type": "code",
   "execution_count": null,
   "metadata": {
    "colab": {
     "base_uri": "https://localhost:8080/",
     "height": 34
    },
    "colab_type": "code",
    "id": "j14GCwFmzZ7y",
    "outputId": "5b172a57-8594-4894-bb2a-0f507353fc10"
   },
   "outputs": [],
   "source": [
    "from google.colab import drive\n",
    "drive.mount('/content/drive')\n",
    "\n",
    "import os\n",
    "os.chdir('/content/drive/My Drive/Colab')\n"
   ]
  },
  {
   "cell_type": "code",
   "execution_count": null,
   "metadata": {
    "colab": {
     "base_uri": "https://localhost:8080/",
     "height": 34
    },
    "colab_type": "code",
    "id": "q-Tzz7AY0mGe",
    "outputId": "c83bc3b3-e03e-48fe-957f-1d069b25aae5"
   },
   "outputs": [],
   "source": [
    "os.chdir( \"./net\") \n",
    "!ls\n"
   ]
  },
  {
   "cell_type": "code",
   "execution_count": null,
   "metadata": {
    "colab": {},
    "colab_type": "code",
    "id": "yPGeXw2f0a_G"
   },
   "outputs": [],
   "source": [
    "filepath_list = []\n",
    "file_dir = \"./savedata\"\n",
    "for  file_name in  os.listdir(  file_dir) :\n",
    "    temppath  =   os.path.join(  os.path.abspath(file_dir)  ,file_name   ) \n",
    "    filepath_list.append(temppath )\n"
   ]
  },
  {
   "cell_type": "code",
   "execution_count": null,
   "metadata": {
    "colab": {},
    "colab_type": "code",
    "id": "mzhRkkAKMcSX"
   },
   "outputs": [],
   "source": [
    "from surprise import Dataset\n",
    "from surprise import Reader\n",
    "from surprise import BaselineOnly\n",
    "from surprise import accuracy\n",
    "from surprise.model_selection import KFold\n",
    "import pandas as pd\n",
    "import  os "
   ]
  },
  {
   "cell_type": "code",
   "execution_count": null,
   "metadata": {
    "colab": {
     "base_uri": "https://localhost:8080/",
     "height": 52
    },
    "colab_type": "code",
    "id": "93dInwhUD9mc",
    "outputId": "d693ef0d-a227-42f1-c47e-35308ac51dd1"
   },
   "outputs": [],
   "source": [
    "N = 10\n",
    "import pandas  as pd\n",
    "data = pd.DataFrame()\n",
    "for path in filepath_list[:N]:\n",
    "    df1 = pd.read_csv(path, header=None)\n",
    "    df1.columns = ['iid', 'uid', 'rating' ,'date']\n",
    "    df1= df1.loc[:,['iid', 'uid', 'rating']]\n",
    "    data = pd.concat([data, df1] , axis  = 0 )\n",
    "    \n",
    "print(\"开始读入数据....\")\n",
    "reader = Reader(line_format='user item rating', sep=',')\n",
    "data = Dataset.load_from_df(data, reader=reader)\n",
    "train_set = data.build_full_trainset()\n",
    "print(\"数据加载成功....\")\n"
   ]
  },
  {
   "cell_type": "code",
   "execution_count": null,
   "metadata": {
    "colab": {
     "base_uri": "https://localhost:8080/",
     "height": 34
    },
    "colab_type": "code",
    "id": "oYiMIbubMiCo",
    "outputId": "26132d03-74bd-45c6-9fc2-02cdd88de1d1"
   },
   "outputs": [],
   "source": [
    "bsl_options = {'method': 'sgd', 'n_epochs': 5}\n",
    "print(\"als 算法启动....\")\n",
    "\n",
    "algo = BaselineOnly(bsl_options=bsl_options)\n"
   ]
  },
  {
   "cell_type": "code",
   "execution_count": null,
   "metadata": {
    "colab": {
     "base_uri": "https://localhost:8080/",
     "height": 122
    },
    "colab_type": "code",
    "id": "1ufuWO1jET3A",
    "outputId": "c6e9a013-2ade-4b8d-c38e-f47459961b5e"
   },
   "outputs": [],
   "source": [
    "kf = KFold(n_splits=3)\n",
    "for trainset, testset in kf.split(data):\n",
    "    # 训练并预测\n",
    "    algo.fit(trainset)\n",
    "    predictions = algo.test(testset)\n",
    "    # 计算RMSE\n",
    "    accuracy.rmse(predictions, verbose=True)"
   ]
  },
  {
   "cell_type": "code",
   "execution_count": null,
   "metadata": {
    "colab": {},
    "colab_type": "code",
    "id": "H5E4i_2bNyh1"
   },
   "outputs": [],
   "source": [
    "basedir  =\"./probegood\"\n",
    "newfilepath_list =[] \n",
    "for  file_name in  os.listdir(  basedir) :\n",
    "    temppath  =   os.path.join(  os.path.abspath(basedir)  ,file_name   ) \n",
    "    newfilepath_list.append(temppath )\n",
    "    \n",
    "#排序    \n",
    "sorted( newfilepath_list) \n",
    "    \n",
    "# NN 控制测试集中文件的格式\n",
    "NN = 10  \n",
    "testsets  = pd.DataFrame()\n",
    "for j in  range(NN):\n",
    "    probe_csv_path =newfilepath_list[j]\n",
    "    probedata = pd.read_table(  probe_csv_path ,delimiter= \",\" ,skiprows=1 , header =None )\n",
    "    probedata.columns = [\"user\",\"item\",\"rating\",\"timestamp\"]\n",
    "    probedata  = probedata.loc[: ,[\"user\",\"item\",\"rating\"] ]\n",
    "    testsets = pd.concat(   [testsets   , probedata ]  ,axis  =0  )\n"
   ]
  },
  {
   "cell_type": "code",
   "execution_count": null,
   "metadata": {
    "colab": {
     "base_uri": "https://localhost:8080/",
     "height": 52
    },
    "colab_type": "code",
    "id": "PUWJQpeDPo7_",
    "outputId": "f9876b55-5a45-4910-824d-3592eec0b25f"
   },
   "outputs": [],
   "source": [
    "reader = Reader(line_format='user item rating', sep=',')\n",
    "probedata= Dataset.load_from_df(testsets, reader=reader)\n",
    "predictions = algo.test(testsets.values)\n",
    "accuracy.rmse(predictions, verbose=True)\n"
   ]
  },
  {
   "cell_type": "markdown",
   "metadata": {},
   "source": [
    "#### 文件一共大约500M数据 "
   ]
  },
  {
   "cell_type": "code",
   "execution_count": null,
   "metadata": {},
   "outputs": [],
   "source": []
  }
 ],
 "metadata": {
  "accelerator": "GPU",
  "colab": {
   "collapsed_sections": [],
   "name": "MF.ipynb",
   "provenance": []
  },
  "kernelspec": {
   "display_name": "Python 3",
   "language": "python",
   "name": "python3"
  },
  "language_info": {
   "codemirror_mode": {
    "name": "ipython",
    "version": 3
   },
   "file_extension": ".py",
   "mimetype": "text/x-python",
   "name": "python",
   "nbconvert_exporter": "python",
   "pygments_lexer": "ipython3",
   "version": "3.7.4"
  }
 },
 "nbformat": 4,
 "nbformat_minor": 1
}
