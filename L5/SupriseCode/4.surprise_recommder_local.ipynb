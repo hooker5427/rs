{
 "cells": [
  {
   "cell_type": "code",
   "execution_count": null,
   "metadata": {},
   "outputs": [],
   "source": [
    "from surprise import Dataset\n",
    "from surprise import Reader\n",
    "from surprise import BaselineOnly\n",
    "from surprise import accuracy\n",
    "from surprise.model_selection import KFold\n",
    "import pandas as pd\n",
    "import  os "
   ]
  },
  {
   "cell_type": "markdown",
   "metadata": {},
   "source": [
    "#### 加载原始数据进行训练"
   ]
  },
  {
   "cell_type": "code",
   "execution_count": null,
   "metadata": {},
   "outputs": [],
   "source": [
    "filepath_list = []\n",
    "file_dir = \"../netflix-prize-data/savedata\"\n",
    "for  file_name in  os.listdir(  file_dir) :\n",
    "    temppath  =   os.path.join(  os.path.abspath(file_dir)  ,file_name   ) \n",
    "    filepath_list.append(temppath )\n"
   ]
  },
  {
   "cell_type": "markdown",
   "metadata": {},
   "source": [
    "#### 1,1488844,3,2005-09-06\n",
    "####  iid , uid , score , date\n",
    "####  load_from_file 是可以不给timestamp, 没有就是None\n",
    "####   load_from_df 不能给timestamp ,否者报错"
   ]
  },
  {
   "cell_type": "code",
   "execution_count": null,
   "metadata": {},
   "outputs": [],
   "source": [
    "# 读入训练文件的数量\n",
    "N =10 \n",
    "\n",
    "data = pd.DataFrame()\n",
    "for path in filepath_list[:N]:\n",
    "    df1 = pd.read_csv(path, header=None)\n",
    "    df1.columns = ['uid', 'iid', 'rating' ,'date']\n",
    "    df1= df1.loc[:,['iid', 'uid', 'rating']]\n",
    "    data = pd.concat([data, df1] , axis  = 0 )"
   ]
  },
  {
   "cell_type": "code",
   "execution_count": null,
   "metadata": {},
   "outputs": [],
   "source": [
    "print(\"开始读入数据....\")\n",
    "reader = Reader(line_format='user item rating', sep=',')\n",
    "data = Dataset.load_from_df(data, reader=reader)\n",
    "train_set = data.build_full_trainset()\n",
    "print(\"数据加载成功....\")"
   ]
  },
  {
   "cell_type": "markdown",
   "metadata": {},
   "source": [
    "#### 使用SGD算法进行优化"
   ]
  },
  {
   "cell_type": "code",
   "execution_count": null,
   "metadata": {},
   "outputs": [],
   "source": [
    "bsl_options = {'method': 'sgd', 'n_epochs': 5}\n",
    "print(\"als 算法启动....\")\n",
    "algo = BaselineOnly(bsl_options=bsl_options)"
   ]
  },
  {
   "cell_type": "markdown",
   "metadata": {},
   "source": [
    "#### 定义K折交叉验证迭代器，K=3 ， 并计算rmse"
   ]
  },
  {
   "cell_type": "code",
   "execution_count": null,
   "metadata": {},
   "outputs": [],
   "source": [
    "\n",
    "kf = KFold(n_splits=3)\n",
    "for trainset, testset in kf.split(data):\n",
    "    # 训练并预测\n",
    "    algo.fit(trainset)\n",
    "    predictions = algo.test(testset)\n",
    "    # 计算RMSE\n",
    "    accuracy.rmse(predictions, verbose=True)\n"
   ]
  },
  {
   "cell_type": "code",
   "execution_count": null,
   "metadata": {},
   "outputs": [],
   "source": [
    "#  预测probe数据集\n",
    "# F:\\rs\\L5\\netflix-prize-data\\probegoodX\n",
    "\n",
    "basedir  =\"../netflix-prize-data/probegoodX\"\n",
    "newfilepath_list =[] \n",
    "for  file_name in  os.listdir(  basedir) :\n",
    "    temppath  =   os.path.join(  os.path.abspath(basedir)  ,file_name   ) \n",
    "    newfilepath_list.append(temppath )\n",
    "    \n",
    "#排序    \n",
    "sorted( newfilepath_list) \n"
   ]
  },
  {
   "cell_type": "code",
   "execution_count": null,
   "metadata": {},
   "outputs": [],
   "source": [
    "# NN 控制测试集中文件的格式\n",
    "NN = 10  \n",
    "testsets  = pd.DataFrame()\n",
    "for j in  range(NN):\n",
    "    probe_csv_path =newfilepath_list[j]\n",
    "    probedata = pd.read_table(  probe_csv_path ,delimiter= \",\" ,skiprows=1 , header =None )\n",
    "    probedata.columns = [\"user\",\"item\",\"rating\",\"timestamp\"]\n",
    "    probedata  = probedata.loc[: ,[\"user\",\"item\",\"rating\"] ]\n",
    "    testsets = pd.concat(   [testsets   , probedata ]  ,axis  =0  )\n"
   ]
  },
  {
   "cell_type": "code",
   "execution_count": null,
   "metadata": {},
   "outputs": [],
   "source": [
    "reader = Reader(line_format='user item rating', sep=',')\n",
    "probedata= Dataset.load_from_df(testsets, reader=reader)\n",
    "predictions = algo.test(testsets.values)\n",
    "accuracy.rmse(predictions, verbose=True)"
   ]
  },
  {
   "cell_type": "code",
   "execution_count": null,
   "metadata": {},
   "outputs": [],
   "source": []
  }
 ],
 "metadata": {
  "kernelspec": {
   "display_name": "Python 3",
   "language": "python",
   "name": "python3"
  },
  "language_info": {
   "codemirror_mode": {
    "name": "ipython",
    "version": 3
   },
   "file_extension": ".py",
   "mimetype": "text/x-python",
   "name": "python",
   "nbconvert_exporter": "python",
   "pygments_lexer": "ipython3",
   "version": "3.7.4"
  }
 },
 "nbformat": 4,
 "nbformat_minor": 4
}
