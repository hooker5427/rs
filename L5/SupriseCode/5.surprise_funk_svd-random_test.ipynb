{
 "cells": [
  {
   "cell_type": "markdown",
   "metadata": {},
   "source": [
    "#### 产生随机train训练集\n"
   ]
  },
  {
   "cell_type": "code",
   "execution_count": null,
   "metadata": {},
   "outputs": [],
   "source": [
    "import numpy as  np \n",
    "import pandas as pd \n",
    "import  os "
   ]
  },
  {
   "cell_type": "code",
   "execution_count": null,
   "metadata": {},
   "outputs": [],
   "source": [
    "filepath_list = []\n",
    "file_dir = \"./netflix-prize-data/savedata\"\n",
    "for  file_name in  os.listdir(  file_dir) :\n",
    "    temppath  =   os.path.join(  os.path.abspath(file_dir)  ,file_name   ) \n",
    "    filepath_list.append(temppath )"
   ]
  },
  {
   "cell_type": "code",
   "execution_count": null,
   "metadata": {},
   "outputs": [],
   "source": [
    "alldata  = np.zeros( (5000 * len(filepath_list)  , 3) ) \n",
    "i = 0 \n",
    "for filepath in filepath_list :\n",
    "    data = np.loadtxt( filepath, usecols= [0,1,2] ,delimiter= ',') \n",
    "    indeices = np.random.randint ( 0 ,len(data) ,  1000) \n",
    "    for  line in tempdata :\n",
    "        alldata[ i : ] = line \n",
    "        i+=1 \n",
    "    print( filepath ,\"成功！\")"
   ]
  },
  {
   "cell_type": "code",
   "execution_count": null,
   "metadata": {},
   "outputs": [],
   "source": [
    "alldata = alldata.astype(np.int32)"
   ]
  },
  {
   "cell_type": "code",
   "execution_count": null,
   "metadata": {},
   "outputs": [],
   "source": [
    "def savetocsv( data ,  savepath ) :\n",
    "    import csv \n",
    "    with open( savepath , 'w'  , newline='') as  f :\n",
    "        writer  = csv.writer(f)\n",
    "        writer.writerows(data) "
   ]
  },
  {
   "cell_type": "code",
   "execution_count": null,
   "metadata": {},
   "outputs": [],
   "source": [
    "savetocsv(alldata , \"rating_small.txt\")"
   ]
  },
  {
   "cell_type": "code",
   "execution_count": null,
   "metadata": {},
   "outputs": [],
   "source": []
  }
 ],
 "metadata": {
  "kernelspec": {
   "display_name": "Python 3",
   "language": "python",
   "name": "python3"
  },
  "language_info": {
   "codemirror_mode": {
    "name": "ipython",
    "version": 3
   },
   "file_extension": ".py",
   "mimetype": "text/x-python",
   "name": "python",
   "nbconvert_exporter": "python",
   "pygments_lexer": "ipython3",
   "version": "3.7.4"
  }
 },
 "nbformat": 4,
 "nbformat_minor": 1
}
