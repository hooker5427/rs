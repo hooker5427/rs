{
 "cells": [
  {
   "cell_type": "code",
   "execution_count": 1,
   "metadata": {},
   "outputs": [],
   "source": [
    "import  tensorflow as tf \n",
    "from deepctr.inputs import  SparseFeat ,VarLenSparseFeat , DenseFeat\n",
    "import numpy as np\n",
    "import pandas as pd \n",
    "import matplotlib.pyplot as plt \n",
    "from  deepctr.inputs import get_feature_names \n",
    "from  deepctr.models import WDL\n",
    "from sklearn.model_selection import train_test_split \n",
    "import tensorflow.keras as keras \n",
    "from sklearn.metrics import mean_squared_error"
   ]
  },
  {
   "cell_type": "code",
   "execution_count": 2,
   "metadata": {},
   "outputs": [
    {
     "name": "stdout",
     "output_type": "stream",
     "text": [
      "['user_id', 'movie_id', 'rating', 'timestamp', 'age', 'gender', 'occupation', 'zip', 'genres']\n"
     ]
    }
   ],
   "source": [
    "path  = './ml-100k.csv'\n",
    "data = pd.read_csv(path ,encoding = 'utf-8')\n",
    "print (list(data.columns))\n"
   ]
  },
  {
   "cell_type": "code",
   "execution_count": 3,
   "metadata": {},
   "outputs": [
    {
     "name": "stdout",
     "output_type": "stream",
     "text": [
      "943\n",
      "1682\n",
      "2\n",
      "61\n",
      "21\n",
      "795\n"
     ]
    }
   ],
   "source": [
    "\n",
    "sparse_categorical_features = ['user_id', 'movie_id' ,'gender', 'age',\n",
    "                               'occupation', 'zip']\n",
    "from sklearn.preprocessing import LabelEncoder\n",
    "# 对特征标签进行编码\n",
    "for feature in sparse_categorical_features:\n",
    "    lbe = LabelEncoder()\n",
    "    data[feature] = lbe.fit_transform(data[feature])\n",
    "\n",
    "for  feature in sparse_categorical_features :\n",
    "    print (data[feature].nunique())"
   ]
  },
  {
   "cell_type": "code",
   "execution_count": 4,
   "metadata": {},
   "outputs": [],
   "source": [
    "fixlen_feature_columns = [] \n",
    "for  feature in sparse_categorical_features:\n",
    "    fixlen_feature_columns.append( SparseFeat(feature ,\n",
    "                                data[feature].nunique() , \n",
    "                                embedding_dim = 4 ,use_hash =False  ))"
   ]
  },
  {
   "cell_type": "code",
   "execution_count": 5,
   "metadata": {},
   "outputs": [],
   "source": [
    "def get_table(data ,feature_name , sep = '|'):\n",
    "    s =set()\n",
    "    for  line in  data[feature_name]:\n",
    "        s.update( str(line).split(sep)) \n",
    "    s.add(\"<pad>\")\n",
    "    return  len(s) ,s "
   ]
  },
  {
   "cell_type": "code",
   "execution_count": 6,
   "metadata": {},
   "outputs": [],
   "source": [
    "max_len , table = get_table(data ,'genres' , sep = '|')"
   ]
  },
  {
   "cell_type": "code",
   "execution_count": 7,
   "metadata": {},
   "outputs": [
    {
     "data": {
      "text/plain": [
       "20"
      ]
     },
     "execution_count": 7,
     "metadata": {},
     "output_type": "execute_result"
    }
   ],
   "source": [
    "max_len"
   ]
  },
  {
   "cell_type": "code",
   "execution_count": 8,
   "metadata": {},
   "outputs": [],
   "source": [
    "index2key ={  k :v   for  k ,v in enumerate( table)}"
   ]
  },
  {
   "cell_type": "code",
   "execution_count": 9,
   "metadata": {},
   "outputs": [],
   "source": [
    "key2index  = { v:k for  k ,v   in index2key.items()}"
   ]
  },
  {
   "cell_type": "code",
   "execution_count": 10,
   "metadata": {},
   "outputs": [
    {
     "data": {
      "text/plain": [
       "{'Sci-Fi': 0,\n",
       " 'Documentary': 1,\n",
       " 'Crime': 2,\n",
       " 'Children': 3,\n",
       " 'Drama': 4,\n",
       " 'Romance': 5,\n",
       " 'War': 6,\n",
       " 'Thriller': 7,\n",
       " 'Film-Noir': 8,\n",
       " 'Fantasy': 9,\n",
       " 'Adventure': 10,\n",
       " 'Musical': 11,\n",
       " 'nan': 12,\n",
       " 'Comedy': 13,\n",
       " '<pad>': 14,\n",
       " 'Mystery': 15,\n",
       " 'Animation': 16,\n",
       " 'unknown': 17,\n",
       " 'Action': 18,\n",
       " 'Horror': 19}"
      ]
     },
     "execution_count": 10,
     "metadata": {},
     "output_type": "execute_result"
    }
   ],
   "source": [
    "key2index "
   ]
  },
  {
   "cell_type": "code",
   "execution_count": 11,
   "metadata": {},
   "outputs": [],
   "source": [
    "data['genres'] =data['genres'].astype(str).str.split(\"|\").map( lambda line  :\n",
    "                                  [  key2index[x]  for x  in line  ])"
   ]
  },
  {
   "cell_type": "code",
   "execution_count": 12,
   "metadata": {},
   "outputs": [
    {
     "data": {
      "text/plain": [
       "0                 [4]\n",
       "1        [18, 13, 11]\n",
       "2          [18, 4, 6]\n",
       "3          [18, 4, 7]\n",
       "4                 [4]\n",
       "             ...     \n",
       "99995             [4]\n",
       "99996          [4, 5]\n",
       "99997          [4, 5]\n",
       "99998            [13]\n",
       "99999          [2, 7]\n",
       "Name: genres, Length: 100000, dtype: object"
      ]
     },
     "execution_count": 12,
     "metadata": {},
     "output_type": "execute_result"
    }
   ],
   "source": [
    "data['genres']"
   ]
  },
  {
   "cell_type": "code",
   "execution_count": 13,
   "metadata": {},
   "outputs": [],
   "source": [
    "from tensorflow.keras.preprocessing.sequence import pad_sequences "
   ]
  },
  {
   "cell_type": "code",
   "execution_count": 14,
   "metadata": {},
   "outputs": [],
   "source": [
    "genres_list  = pad_sequences(data['genres']  ,\n",
    "              maxlen=max_len,\n",
    "                dtype=int,\n",
    "                padding='post',\n",
    "                value= key2index['<pad>'] ) "
   ]
  },
  {
   "cell_type": "code",
   "execution_count": 15,
   "metadata": {},
   "outputs": [],
   "source": [
    " varlen_feature_columns = [VarLenSparseFeat(SparseFeat('genres', max_len ,\n",
    "                                                       embedding_dim=4),\n",
    "                                            maxlen=max_len,\n",
    "                                            combiner='mean',\n",
    "                                            weight_name=None)]"
   ]
  },
  {
   "cell_type": "code",
   "execution_count": 16,
   "metadata": {},
   "outputs": [
    {
     "data": {
      "text/plain": [
       "['user_id', 'movie_id', 'gender', 'age', 'occupation', 'zip', 'genres']"
      ]
     },
     "execution_count": 16,
     "metadata": {},
     "output_type": "execute_result"
    }
   ],
   "source": [
    "linear_feature_columns = fixlen_feature_columns + varlen_feature_columns\n",
    "dnn_feature_columns = fixlen_feature_columns + varlen_feature_columns\n",
    "\n",
    "feature_names = get_feature_names(linear_feature_columns+dnn_feature_columns)\n",
    "feature_names"
   ]
  },
  {
   "cell_type": "code",
   "execution_count": 17,
   "metadata": {},
   "outputs": [
    {
     "name": "stdout",
     "output_type": "stream",
     "text": [
      "Model: \"model\"\n",
      "__________________________________________________________________________________________________\n",
      "Layer (type)                    Output Shape         Param #     Connected to                     \n",
      "==================================================================================================\n",
      "genres (InputLayer)             [(None, 20)]         0                                            \n",
      "__________________________________________________________________________________________________\n",
      "user_id (InputLayer)            [(None, 1)]          0                                            \n",
      "__________________________________________________________________________________________________\n",
      "movie_id (InputLayer)           [(None, 1)]          0                                            \n",
      "__________________________________________________________________________________________________\n",
      "gender (InputLayer)             [(None, 1)]          0                                            \n",
      "__________________________________________________________________________________________________\n",
      "age (InputLayer)                [(None, 1)]          0                                            \n",
      "__________________________________________________________________________________________________\n",
      "occupation (InputLayer)         [(None, 1)]          0                                            \n",
      "__________________________________________________________________________________________________\n",
      "zip (InputLayer)                [(None, 1)]          0                                            \n",
      "__________________________________________________________________________________________________\n",
      "sparse_seq_emb_genres (Embeddin (None, 20, 4)        80          genres[0][0]                     \n",
      "__________________________________________________________________________________________________\n",
      "sparse_emb_user_id (Embedding)  (None, 1, 4)         3772        user_id[0][0]                    \n",
      "__________________________________________________________________________________________________\n",
      "sparse_emb_movie_id (Embedding) (None, 1, 4)         6728        movie_id[0][0]                   \n",
      "__________________________________________________________________________________________________\n",
      "sparse_emb_gender (Embedding)   (None, 1, 4)         8           gender[0][0]                     \n",
      "__________________________________________________________________________________________________\n",
      "sparse_emb_age (Embedding)      (None, 1, 4)         244         age[0][0]                        \n",
      "__________________________________________________________________________________________________\n",
      "sparse_emb_occupation (Embeddin (None, 1, 4)         84          occupation[0][0]                 \n",
      "__________________________________________________________________________________________________\n",
      "sparse_emb_zip (Embedding)      (None, 1, 4)         3180        zip[0][0]                        \n",
      "__________________________________________________________________________________________________\n",
      "sequence_pooling_layer (Sequenc (None, 1, 4)         0           sparse_seq_emb_genres[0][0]      \n",
      "__________________________________________________________________________________________________\n",
      "linear0sparse_seq_emb_genres (E (None, 20, 1)        20          genres[0][0]                     \n",
      "__________________________________________________________________________________________________\n",
      "no_mask_2 (NoMask)              (None, 1, 4)         0           sparse_emb_user_id[0][0]         \n",
      "                                                                 sparse_emb_movie_id[0][0]        \n",
      "                                                                 sparse_emb_gender[0][0]          \n",
      "                                                                 sparse_emb_age[0][0]             \n",
      "                                                                 sparse_emb_occupation[0][0]      \n",
      "                                                                 sparse_emb_zip[0][0]             \n",
      "                                                                 sequence_pooling_layer[0][0]     \n",
      "__________________________________________________________________________________________________\n",
      "linear0sparse_emb_user_id (Embe (None, 1, 1)         943         user_id[0][0]                    \n",
      "__________________________________________________________________________________________________\n",
      "linear0sparse_emb_movie_id (Emb (None, 1, 1)         1682        movie_id[0][0]                   \n",
      "__________________________________________________________________________________________________\n",
      "linear0sparse_emb_gender (Embed (None, 1, 1)         2           gender[0][0]                     \n",
      "__________________________________________________________________________________________________\n",
      "linear0sparse_emb_age (Embeddin (None, 1, 1)         61          age[0][0]                        \n",
      "__________________________________________________________________________________________________\n",
      "linear0sparse_emb_occupation (E (None, 1, 1)         21          occupation[0][0]                 \n",
      "__________________________________________________________________________________________________\n",
      "linear0sparse_emb_zip (Embeddin (None, 1, 1)         795         zip[0][0]                        \n",
      "__________________________________________________________________________________________________\n",
      "sequence_pooling_layer_1 (Seque (None, 1, 1)         0           linear0sparse_seq_emb_genres[0][0\n",
      "__________________________________________________________________________________________________\n",
      "concatenate_1 (Concatenate)     (None, 1, 28)        0           no_mask_2[0][0]                  \n",
      "                                                                 no_mask_2[1][0]                  \n",
      "                                                                 no_mask_2[2][0]                  \n",
      "                                                                 no_mask_2[3][0]                  \n",
      "                                                                 no_mask_2[4][0]                  \n",
      "                                                                 no_mask_2[5][0]                  \n",
      "                                                                 no_mask_2[6][0]                  \n",
      "__________________________________________________________________________________________________\n",
      "no_mask (NoMask)                (None, 1, 1)         0           linear0sparse_emb_user_id[0][0]  \n",
      "                                                                 linear0sparse_emb_movie_id[0][0] \n",
      "                                                                 linear0sparse_emb_gender[0][0]   \n",
      "                                                                 linear0sparse_emb_age[0][0]      \n",
      "                                                                 linear0sparse_emb_occupation[0][0\n",
      "                                                                 linear0sparse_emb_zip[0][0]      \n",
      "                                                                 sequence_pooling_layer_1[0][0]   \n",
      "__________________________________________________________________________________________________\n",
      "flatten (Flatten)               (None, 28)           0           concatenate_1[0][0]              \n",
      "__________________________________________________________________________________________________\n",
      "concatenate (Concatenate)       (None, 1, 7)         0           no_mask[0][0]                    \n",
      "                                                                 no_mask[1][0]                    \n",
      "                                                                 no_mask[2][0]                    \n",
      "                                                                 no_mask[3][0]                    \n",
      "                                                                 no_mask[4][0]                    \n",
      "                                                                 no_mask[5][0]                    \n",
      "                                                                 no_mask[6][0]                    \n",
      "__________________________________________________________________________________________________\n",
      "dnn (DNN)                       (None, 128)          40320       flatten[0][0]                    \n",
      "__________________________________________________________________________________________________\n",
      "linear (Linear)                 (None, 1, 1)         0           concatenate[0][0]                \n",
      "__________________________________________________________________________________________________\n",
      "dense (Dense)                   (None, 1)            128         dnn[0][0]                        \n",
      "__________________________________________________________________________________________________\n",
      "no_mask_1 (NoMask)              (None, 1, 1)         0           linear[0][0]                     \n",
      "__________________________________________________________________________________________________\n",
      "add (Add)                       (None, 1, 1)         0           dense[0][0]                      \n",
      "                                                                 no_mask_1[0][0]                  \n",
      "__________________________________________________________________________________________________\n",
      "prediction_layer (PredictionLay (None, 1)            1           add[0][0]                        \n",
      "==================================================================================================\n",
      "Total params: 58,069\n",
      "Trainable params: 58,069\n",
      "Non-trainable params: 0\n",
      "__________________________________________________________________________________________________\n"
     ]
    }
   ],
   "source": [
    "# 将数据集切分成训练集和测试集\n",
    "train, test = train_test_split(data, test_size=0.2)\n",
    "train_model_input = {name: train[name].values for name in feature_names}\n",
    "test_model_input = {name: test[name].values for name in feature_names}\n",
    "train_model_input['genres'] = genres_list[ :len(train) ,: ]\n",
    "test_model_input ['genres'] = genres_list[ len(train): ,: ]\n",
    "target = ['rating']\n",
    "\n",
    "from tensorflow.keras.callbacks import EarlyStopping,TensorBoard\n",
    "callbacks = [EarlyStopping( monitor='val_loss',patience=3, min_delta=1e-2)]\n",
    "\n",
    "model = WDL(linear_feature_columns, \n",
    "            dnn_feature_columns, \n",
    "            task='regression' , \n",
    "            l2_reg_linear= 1e-5 ,\n",
    "            l2_reg_embedding= 1e-5 ,\n",
    "            l2_reg_dnn=0.01 , \n",
    "            init_std=0.0001,\n",
    "            dnn_hidden_units=( 256, 128) ,\n",
    "            seed=1024,\n",
    "            dnn_dropout=0,\n",
    "            dnn_activation='relu',\n",
    "               )\n",
    "model.summary()\n"
   ]
  },
  {
   "cell_type": "code",
   "execution_count": 18,
   "metadata": {},
   "outputs": [
    {
     "name": "stdout",
     "output_type": "stream",
     "text": [
      "Train on 64000 samples, validate on 16000 samples\n",
      "Epoch 1/20\n"
     ]
    },
    {
     "name": "stderr",
     "output_type": "stream",
     "text": [
      "C:\\ProgramData\\Anaconda3\\envs\\tf2\\lib\\site-packages\\tensorflow_core\\python\\framework\\indexed_slices.py:433: UserWarning: Converting sparse IndexedSlices to a dense Tensor of unknown shape. This may consume a large amount of memory.\n",
      "  \"Converting sparse IndexedSlices to a dense Tensor of unknown shape. \"\n",
      "C:\\ProgramData\\Anaconda3\\envs\\tf2\\lib\\site-packages\\tensorflow_core\\python\\framework\\indexed_slices.py:433: UserWarning: Converting sparse IndexedSlices to a dense Tensor of unknown shape. This may consume a large amount of memory.\n",
      "  \"Converting sparse IndexedSlices to a dense Tensor of unknown shape. \"\n"
     ]
    },
    {
     "name": "stdout",
     "output_type": "stream",
     "text": [
      "64000/64000 [==============================] - 6s 89us/sample - loss: 10.5196 - mse: 8.6848 - val_loss: 3.1777 - val_mse: 1.5569\n",
      "Epoch 2/20\n",
      "64000/64000 [==============================] - 2s 28us/sample - loss: 2.5858 - mse: 1.1853 - val_loss: 2.3234 - val_mse: 1.1332\n",
      "Epoch 3/20\n",
      "64000/64000 [==============================] - 2s 30us/sample - loss: 2.0903 - mse: 1.0554 - val_loss: 1.9352 - val_mse: 1.0354\n",
      "Epoch 4/20\n",
      "64000/64000 [==============================] - 3s 42us/sample - loss: 1.7664 - mse: 0.9675 - val_loss: 1.6763 - val_mse: 0.9681\n",
      "Epoch 5/20\n",
      "64000/64000 [==============================] - 2s 32us/sample - loss: 1.5506 - mse: 0.9137 - val_loss: 1.5068 - val_mse: 0.9358\n",
      "Epoch 6/20\n",
      "64000/64000 [==============================] - 1s 17us/sample - loss: 1.4048 - mse: 0.8875 - val_loss: 1.3889 - val_mse: 0.9226\n",
      "Epoch 7/20\n",
      "64000/64000 [==============================] - 1s 22us/sample - loss: 1.2999 - mse: 0.8748 - val_loss: 1.3022 - val_mse: 0.9153\n",
      "Epoch 8/20\n",
      "64000/64000 [==============================] - 1s 22us/sample - loss: 1.2208 - mse: 0.8660 - val_loss: 1.2350 - val_mse: 0.9105\n",
      "Epoch 9/20\n",
      "64000/64000 [==============================] - 1s 19us/sample - loss: 1.1596 - mse: 0.8602 - val_loss: 1.1829 - val_mse: 0.9083\n",
      "Epoch 10/20\n",
      "64000/64000 [==============================] - 1s 21us/sample - loss: 1.1112 - mse: 0.8561 - val_loss: 1.1409 - val_mse: 0.9050\n",
      "Epoch 11/20\n",
      "64000/64000 [==============================] - 1s 17us/sample - loss: 1.0725 - mse: 0.8528 - val_loss: 1.1077 - val_mse: 0.9034\n",
      "Epoch 12/20\n",
      "64000/64000 [==============================] - 1s 22us/sample - loss: 1.0408 - mse: 0.8497 - val_loss: 1.0813 - val_mse: 0.9033\n",
      "Epoch 13/20\n",
      "64000/64000 [==============================] - 1s 23us/sample - loss: 1.0156 - mse: 0.8474 - val_loss: 1.0594 - val_mse: 0.9011\n",
      "Epoch 14/20\n",
      "64000/64000 [==============================] - 1s 21us/sample - loss: 0.9950 - mse: 0.8457 - val_loss: 1.0405 - val_mse: 0.8997\n",
      "Epoch 15/20\n",
      "64000/64000 [==============================] - 2s 29us/sample - loss: 0.9779 - mse: 0.8438 - val_loss: 1.0261 - val_mse: 0.8992\n",
      "Epoch 16/20\n",
      "64000/64000 [==============================] - 1s 21us/sample - loss: 0.9640 - mse: 0.8424 - val_loss: 1.0142 - val_mse: 0.8980\n",
      "Epoch 17/20\n",
      "64000/64000 [==============================] - 1s 20us/sample - loss: 0.9523 - mse: 0.8411 - val_loss: 1.0043 - val_mse: 0.8974\n",
      "Epoch 18/20\n",
      "64000/64000 [==============================] - 1s 20us/sample - loss: 0.9428 - mse: 0.8398 - val_loss: 0.9959 - val_mse: 0.8975\n",
      "Epoch 19/20\n",
      "64000/64000 [==============================] - 1s 21us/sample - loss: 0.9346 - mse: 0.8391 - val_loss: 0.9896 - val_mse: 0.8965\n",
      "Epoch 20/20\n",
      "64000/64000 [==============================] - 1s 21us/sample - loss: 0.9281 - mse: 0.8380 - val_loss: 0.9831 - val_mse: 0.8964\n"
     ]
    }
   ],
   "source": [
    "from tensorflow.keras.optimizers import Adam \n",
    "optmizer = Adam(1e-4)\n",
    "model.compile(optmizer , \"mse\", metrics=['mse'], )\n",
    "history = model.fit(train_model_input, \n",
    "                    train[target].values,\n",
    "                    batch_size=256,\n",
    "                    epochs=20, \n",
    "                    verbose=True,\n",
    "                    validation_split=0.2, )"
   ]
  },
  {
   "cell_type": "code",
   "execution_count": 19,
   "metadata": {},
   "outputs": [
    {
     "data": {
      "text/plain": [
       "<Figure size 576x576 with 0 Axes>"
      ]
     },
     "metadata": {},
     "output_type": "display_data"
    },
    {
     "data": {
      "image/png": "[encoded data removed]",
      "text/plain": [
       "<Figure size 576x360 with 1 Axes>"
      ]
     },
     "metadata": {
      "needs_background": "light"
     },
     "output_type": "display_data"
    }
   ],
   "source": [
    "plt.figure( figsize= (8,8 ))\n",
    "def plot_learning_curves(history):\n",
    "    pd.DataFrame(history.history).plot(figsize=(8, 5))\n",
    "    plt.grid(True)\n",
    "    plt.gca().set_ylim(0, 15)\n",
    "    plt.show()\n",
    "plot_learning_curves(history)"
   ]
  },
  {
   "cell_type": "markdown",
   "metadata": {},
   "source": [
    "model.evaluate(test_model_input  ,\n",
    "              test[target].values ,\n",
    "              batch_size=256)"
   ]
  },
  {
   "cell_type": "code",
   "execution_count": 20,
   "metadata": {},
   "outputs": [
    {
     "name": "stdout",
     "output_type": "stream",
     "text": [
      "test RMSE 0.9382430388763884\n"
     ]
    }
   ],
   "source": [
    "# 使用WDL进行预测\n",
    "pred_ans = model.predict(test_model_input, batch_size=256)\n",
    "# 输出RMSE或MSE\n",
    "mse = round(mean_squared_error(test[target].values, pred_ans), 4)\n",
    "rmse = mse ** 0.5\n",
    "print(\"test RMSE\", rmse)"
   ]
  },
  {
   "cell_type": "code",
   "execution_count": null,
   "metadata": {},
   "outputs": [],
   "source": []
  }
 ],
 "metadata": {
  "kernelspec": {
   "display_name": "tensorflow2.1",
   "language": "python",
   "name": "tf2"
  },
  "language_info": {
   "codemirror_mode": {
    "name": "ipython",
    "version": 3
   },
   "file_extension": ".py",
   "mimetype": "text/x-python",
   "name": "python",
   "nbconvert_exporter": "python",
   "pygments_lexer": "ipython3",
   "version": "3.7.0"
  }
 },
 "nbformat": 4,
 "nbformat_minor": 4
}
