{
 "cells": [
  {
   "cell_type": "markdown",
   "metadata": {},
   "source": [
    "### 基于图的推荐算法 PersonalRank算法\n",
    "- 将用户行为转化为图模型\n",
    "- 哪些不与用户u相连的item节点，对用户u的影响力大？"
   ]
  },
  {
   "cell_type": "markdown",
   "metadata": {},
   "source": [
    "####  从用户u对应的节点开始游走\n",
    "## $ PR_\\left(v_i\\right)  =   \\frac{ 1-d }{ N}+  d  \\times \\sum_{v_j\\in V_i}    \\frac{PR\\left( v_i\\right)}{  |(out_j)|}$\n",
    "\n",
    "## $ PR_\\left(v_i\\right)  =   \\ \\left(1-d\\right)\\times r_i+  d  \\times \\sum_{v_j\\in V_i}    \\frac{PR\\left( v_i\\right)}{  |(out_j)|}$\n",
    "\n",
    "## $  r_i=\\left\\{\n",
    "\\begin{aligned}\n",
    "1 & \\   i== u \\\\\n",
    "0 & \\   i!= u \\\\ \n",
    "\\end{aligned}\n",
    "\\right.$\n",
    "+ PageRank随机模型改成以(1-d)的概率固定从u重新开始\n",
    "+ d的概率继续游走\n",
    "+ 当收敛的时候，计算item节点影响力排名，即为用户u感兴趣的item"
   ]
  },
  {
   "cell_type": "code",
   "execution_count": 1,
   "metadata": {},
   "outputs": [],
   "source": [
    "import numpy as np "
   ]
  },
  {
   "cell_type": "markdown",
   "metadata": {},
   "source": [
    "####  1.获得用户商品的打分记录矩阵 ，matrix(i，j )表示user_i  对item_j的行为记录， 1 表示打过分， 0表示没有打过分数"
   ]
  },
  {
   "cell_type": "code",
   "execution_count": 2,
   "metadata": {},
   "outputs": [],
   "source": [
    "def get_user_item_bool_matrix( path) :\n",
    "    f = open( path , \"r\") \n",
    "    dataMatrix =[] \n",
    "    for line in  f.readlines():\n",
    "        templist = [] \n",
    "        for  e   in line.strip().split(\"\\t\") :\n",
    "            if e!= \"-\" :\n",
    "                templist.append( float(e)) \n",
    "            else:\n",
    "                templist.append(0) \n",
    "        dataMatrix.append(templist) \n",
    "\n",
    "    f.close()\n",
    "    return  np.array(dataMatrix ,dtype = \"float\")"
   ]
  },
  {
   "cell_type": "code",
   "execution_count": 14,
   "metadata": {},
   "outputs": [],
   "source": [
    "def get_user_item_bool_matrixInt( path) :\n",
    "    f = open( path , \"r\") \n",
    "    dataMatrixInt =[] \n",
    "    for line in  f.readlines():\n",
    "        templist = [] \n",
    "        for  e   in line.strip().split(\"\\t\") :\n",
    "            if e!= \"-\" :\n",
    "                templist.append( 1) \n",
    "            else:\n",
    "                templist.append(0) \n",
    "        dataMatrixInt.append(templist) \n",
    "\n",
    "    f.close()\n",
    "    return  np.array(dataMatrixInt)"
   ]
  },
  {
   "cell_type": "code",
   "execution_count": 4,
   "metadata": {},
   "outputs": [],
   "source": [
    "dataMatrix= get_user_item_bool_matrix( path = \"./data.txt\")"
   ]
  },
  {
   "cell_type": "code",
   "execution_count": 5,
   "metadata": {},
   "outputs": [],
   "source": [
    "dataMatrixInt = get_user_item_bool_matrixInt( path = \"./data.txt\")"
   ]
  },
  {
   "cell_type": "markdown",
   "metadata": {},
   "source": [
    "#### 生成user_item二部图"
   ]
  },
  {
   "cell_type": "code",
   "execution_count": 7,
   "metadata": {},
   "outputs": [],
   "source": [
    "from collections import defaultdict \n",
    "\n",
    "def generate_dict_of_useritm(  dataMatrixInt  , dataMatrix ) :\n",
    "    m , n  =  dataMatrix.shape \n",
    "    datadict ={} \n",
    "    for  i in range(m) :\n",
    "        tempdict = {}\n",
    "        for  j in range(n):\n",
    "            if(dataMatrixInt[i][j] !=0 ):\n",
    "                tempdict [\"item_\" + str(j)  ]  =  dataMatrixInt[ i][j ]\n",
    "        datadict[\"user_\"+str(i)]  =  tempdict\n",
    "    \n",
    "    for  j in range(n) :\n",
    "        tempdict = {}\n",
    "        for  i in range(m):\n",
    "            if( dataMatrixInt[i][j ] != 0) :\n",
    "                tempdict [\"user_\" + str(i)  ]  =  dataMatrixInt[ i][j ]\n",
    "        datadict[\"item_\"+str(j)]  =  tempdict\n",
    "    \n",
    "    return  datadict "
   ]
  },
  {
   "cell_type": "code",
   "execution_count": 8,
   "metadata": {},
   "outputs": [],
   "source": [
    "g = generate_dict_of_useritm( dataMatrixInt  , dataMatrix )"
   ]
  },
  {
   "cell_type": "code",
   "execution_count": 9,
   "metadata": {},
   "outputs": [
    {
     "data": {
      "text/plain": [
       "{'user_0': {'item_0': 1.0, 'item_1': 1.0, 'item_3': 1.0},\n",
       " 'user_1': {'item_0': 1.0, 'item_2': 1.0, 'item_3': 1.0},\n",
       " 'user_2': {'item_0': 1.0, 'item_2': 1.0, 'item_4': 1.0},\n",
       " 'user_3': {'item_0': 1.0, 'item_1': 1.0, 'item_3': 1.0},\n",
       " 'user_4': {'item_1': 1.0, 'item_2': 1.0, 'item_4': 1.0},\n",
       " 'item_0': {'user_0': 1.0, 'user_1': 1.0, 'user_2': 1.0, 'user_3': 1.0},\n",
       " 'item_1': {'user_0': 1.0, 'user_3': 1.0, 'user_4': 1.0},\n",
       " 'item_2': {'user_1': 1.0, 'user_2': 1.0, 'user_4': 1.0},\n",
       " 'item_3': {'user_0': 1.0, 'user_1': 1.0, 'user_3': 1.0},\n",
       " 'item_4': {'user_2': 1.0, 'user_4': 1.0}}"
      ]
     },
     "execution_count": 9,
     "metadata": {},
     "output_type": "execute_result"
    }
   ],
   "source": [
    "g"
   ]
  },
  {
   "cell_type": "code",
   "execution_count": 10,
   "metadata": {},
   "outputs": [],
   "source": [
    "def perosonRank( data_dict  , user  , alpha = 0.85  ,maxiter  =100 ,threshold = 1e-5  ) : \n",
    "    rank = {}  \n",
    "    for x in data_dict.keys():\n",
    "        rank[x] = 0\n",
    "    rank[user] = 1 # 从user开始游走\n",
    "\n",
    "    # 2、迭代\n",
    "    step = 0\n",
    "    while step < maxiter :\n",
    "        tmp = {}\n",
    "        for x in data_dict.keys():\n",
    "            tmp[x] = 0\n",
    "\n",
    "        for i, ri in data_dict.items():\n",
    "            for j in ri.keys():\n",
    "                if j not in tmp:\n",
    "                    tmp[j] = 0\n",
    "                tmp[j] += alpha * rank[i] / (1.0 * len(ri))  \n",
    "                if j == user:\n",
    "                    tmp[j] += (1 - alpha)\n",
    "        # 判断是否收敛\n",
    "        check = []\n",
    "        for k in tmp.keys():\n",
    "            check.append(tmp[k] - rank[k])\t\n",
    "        if sum(check) <=threshold:\n",
    "            break\n",
    "        rank = tmp\n",
    "        if step % 20 == 0:\n",
    "            print(\"iter: \", step)\n",
    "        step = step + 1\n",
    "    return rank\n",
    "        \n"
   ]
  },
  {
   "cell_type": "code",
   "execution_count": 11,
   "metadata": {},
   "outputs": [
    {
     "name": "stdout",
     "output_type": "stream",
     "text": [
      "iter:  0\n",
      "iter:  20\n",
      "iter:  40\n",
      "iter:  60\n"
     ]
    }
   ],
   "source": [
    "rank  = perosonRank( g  , \"user_0\", alpha = 0.85  ,maxiter  =100   )"
   ]
  },
  {
   "cell_type": "code",
   "execution_count": 12,
   "metadata": {},
   "outputs": [],
   "source": [
    "def recommend(data_dict, rank, user):\n",
    "    items_dict = {}\n",
    "    # 1、用户user已打过分的项\n",
    "    items = []\n",
    "    for k in data_dict[user].keys():\n",
    "        items.append(k)\n",
    "\n",
    "    # 2、从rank取出商品的打分\n",
    "    for k in rank.keys():\n",
    "        if k.startswith(\"item_\"): # 商品\n",
    "            if k not in items: # 排除已经互动过的商品\n",
    "                items_dict[k] = rank[k]\n",
    "\n",
    "    # 3、按打分的降序排序\n",
    "    result = sorted(items_dict.items(), key=lambda d: d[1], reverse=True)\n",
    "    return result"
   ]
  },
  {
   "cell_type": "code",
   "execution_count": 13,
   "metadata": {},
   "outputs": [
    {
     "data": {
      "text/plain": [
       "[('item_2', 0.1712029993978684), ('item_4', 0.10454553424474539)]"
      ]
     },
     "execution_count": 13,
     "metadata": {},
     "output_type": "execute_result"
    }
   ],
   "source": [
    "recommend(g, rank, 'user_0')"
   ]
  },
  {
   "cell_type": "code",
   "execution_count": null,
   "metadata": {},
   "outputs": [],
   "source": []
  }
 ],
 "metadata": {
  "kernelspec": {
   "display_name": "Python 3",
   "language": "python",
   "name": "python3"
  },
  "language_info": {
   "codemirror_mode": {
    "name": "ipython",
    "version": 3
   },
   "file_extension": ".py",
   "mimetype": "text/x-python",
   "name": "python",
   "nbconvert_exporter": "python",
   "pygments_lexer": "ipython3",
   "version": "3.7.4"
  }
 },
 "nbformat": 4,
 "nbformat_minor": 4
}
