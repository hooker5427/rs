{
 "cells": [
  {
   "cell_type": "code",
   "execution_count": 6,
   "metadata": {},
   "outputs": [],
   "source": [
    "import codecs \n",
    "import random\n",
    "def sample_file ( filename , type_str , thresold  ) :\n",
    "    res = []\n",
    "    with codecs.open( filename , 'r' ,encoding= \"utf-8\") as file  :\n",
    "        while True :\n",
    "            line = file.readline()\n",
    "            if  random.random() < thresold :\n",
    "                res.append(  line) \n",
    "            else :\n",
    "                pass \n",
    "            if not line :\n",
    "                break\n",
    "    savefilename = \"sample__%s_%s\"%( type_str ,thresold) +\".txt\" \n",
    "    with open (savefilename, 'w' ,encoding= 'utf-8') as file :\n",
    "        file.write(  \"\".join(res))\n",
    "    \n",
    "                "
   ]
  },
  {
   "cell_type": "code",
   "execution_count": 4,
   "metadata": {},
   "outputs": [],
   "source": [
    "train_file_name =\"./cnews.train.txt\"\n",
    "valid_file_name = \"./cnews.val.txt\"\n",
    "test_file_name =\"./cnews.test.txt\"\n",
    "\n",
    "sample_file ( train_file_name  ,  \"train\" , 0.2   ) \n",
    "sample_file ( valid_file_name ,\"va\" , 0.2  ) \n",
    "sample_file ( test_file_name , 0.2  ) "
   ]
  },
  {
   "cell_type": "code",
   "execution_count": null,
   "metadata": {},
   "outputs": [],
   "source": []
  }
 ],
 "metadata": {
  "kernelspec": {
   "display_name": "Python 3",
   "language": "python",
   "name": "python3"
  },
  "language_info": {
   "codemirror_mode": {
    "name": "ipython",
    "version": 3
   },
   "file_extension": ".py",
   "mimetype": "text/x-python",
   "name": "python",
   "nbconvert_exporter": "python",
   "pygments_lexer": "ipython3",
   "version": "3.7.4"
  }
 },
 "nbformat": 4,
 "nbformat_minor": 4
}
