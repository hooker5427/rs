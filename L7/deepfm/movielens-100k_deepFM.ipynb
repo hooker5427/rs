{
 "cells": [
  {
   "cell_type": "code",
   "execution_count": 1,
   "metadata": {},
   "outputs": [],
   "source": [
    "import numpy as np\n",
    "import pandas as pd\n",
    "from sklearn.preprocessing import LabelEncoder\n",
    "from tensorflow.python.keras.preprocessing.sequence import pad_sequences\n",
    "\n",
    "from deepctr.inputs import SparseFeat, VarLenSparseFeat, get_feature_names\n",
    "from deepctr.models import DeepFM\n",
    "import warnings \n",
    "warnings.filterwarnings('ignore')"
   ]
  },
  {
   "cell_type": "code",
   "execution_count": 2,
   "metadata": {},
   "outputs": [],
   "source": [
    "\n",
    "data = pd.read_csv(\"ml-100k.csv\")\n",
    "sparse_features = [\"movie_id\", \"user_id\", \"gender\", \"age\", \"occupation\", \"zip_code\", ]\n",
    "target = ['rating']"
   ]
  },
  {
   "cell_type": "code",
   "execution_count": 3,
   "metadata": {},
   "outputs": [],
   "source": [
    "def split(x):\n",
    "    key_ans = str(x).split('|')\n",
    "    for key in key_ans:\n",
    "        if key not in key2index:\n",
    "            # Notice : input value 0 is a special \"padding\",so we do not use 0 to encode valid feature for sequence input\n",
    "            key2index[key] = len(key2index) + 1\n",
    "    return list(map(lambda x: key2index[x], key_ans))"
   ]
  },
  {
   "cell_type": "code",
   "execution_count": 4,
   "metadata": {},
   "outputs": [],
   "source": [
    "\n",
    "# 1.Label Encoding for sparse features,and process sequence features\n",
    "for feat in sparse_features:\n",
    "    lbe = LabelEncoder()\n",
    "    data[feat] = lbe.fit_transform(data[feat])"
   ]
  },
  {
   "cell_type": "code",
   "execution_count": 5,
   "metadata": {},
   "outputs": [],
   "source": [
    "key2index ={}\n",
    "genres_list = list(map(split, data['genre'].values))\n",
    "genres_length = np.array(list(map(len, genres_list)))\n",
    "max_len = max(genres_length)\n",
    "# Notice : padding=`post`\n",
    "genres_list = pad_sequences(genres_list, maxlen=max_len, padding='post', )"
   ]
  },
  {
   "cell_type": "code",
   "execution_count": 6,
   "metadata": {},
   "outputs": [
    {
     "data": {
      "text/plain": [
       "array([[ 1,  0,  0,  0,  0,  0],\n",
       "       [ 2,  3,  4,  0,  0,  0],\n",
       "       [ 2,  1,  5,  0,  0,  0],\n",
       "       ...,\n",
       "       [ 1,  9,  0,  0,  0,  0],\n",
       "       [ 3,  0,  0,  0,  0,  0],\n",
       "       [12,  6,  0,  0,  0,  0]])"
      ]
     },
     "execution_count": 6,
     "metadata": {},
     "output_type": "execute_result"
    }
   ],
   "source": [
    "genres_list"
   ]
  },
  {
   "cell_type": "code",
   "execution_count": 7,
   "metadata": {},
   "outputs": [],
   "source": [
    "# 2.count #unique features for each sparse field and generate feature config for sequence feature\n",
    "fixlen_feature_columns = [SparseFeat(feat, data[feat].nunique(), embedding_dim=4)\n",
    "                      for feat in sparse_features]\n",
    "\n",
    "use_weighted_sequence = False\n",
    "if use_weighted_sequence:\n",
    "    varlen_feature_columns = [ VarLenSparseFeat(SparseFeat('genre',\n",
    "                                vocabulary_size=len(key2index) + 1,\n",
    "                                embedding_dim=4),\n",
    "                                maxlen=max_len,\n",
    "                                combiner='mean',\n",
    "                                weight_name='genres_weight')]  # Notice : value 0 is for padding for sequence input feature\n",
    "else:\n",
    "    varlen_feature_columns = [VarLenSparseFeat(SparseFeat('genre', \n",
    "                                   vocabulary_size=len(key2index) + 1,\n",
    "                                    embedding_dim=4),\n",
    "                                    maxlen=max_len, \n",
    "                                    combiner='mean',\n",
    "                                    weight_name=None)]  # Notice : value 0 is for padding for sequence input feature\n",
    "\n",
    "linear_feature_columns = fixlen_feature_columns + varlen_feature_columns\n",
    "dnn_feature_columns = fixlen_feature_columns + varlen_feature_columns\n",
    "\n",
    "feature_names = get_feature_names(linear_feature_columns + dnn_feature_columns)\n"
   ]
  },
  {
   "cell_type": "code",
   "execution_count": 8,
   "metadata": {},
   "outputs": [
    {
     "data": {
      "text/plain": [
       "['movie_id', 'user_id', 'gender', 'age', 'occupation', 'zip_code', 'genre']"
      ]
     },
     "execution_count": 8,
     "metadata": {},
     "output_type": "execute_result"
    }
   ],
   "source": [
    "feature_names"
   ]
  },
  {
   "cell_type": "code",
   "execution_count": 9,
   "metadata": {},
   "outputs": [],
   "source": [
    "\n",
    "# 3.generate input data for model\n",
    "model_input = {name: data[name].values for name in sparse_features}  #\n",
    "model_input[\"genre\"] = genres_list\n",
    "# model_input[\"genres_weight\"] = np.random.randn(data.shape[0], max_len, 1)"
   ]
  },
  {
   "cell_type": "code",
   "execution_count": 10,
   "metadata": {},
   "outputs": [
    {
     "data": {
      "text/plain": [
       "{'movie_id': array([ 241,  301,  376, ..., 1089,  224,  202], dtype=int64),\n",
       " 'user_id': array([195, 185,  21, ..., 275,  12,  11], dtype=int64),\n",
       " 'gender': array([1, 0, 1, ..., 1, 1, 0]),\n",
       " 'age': array([39, 29, 15, ..., 11, 37, 18], dtype=int64),\n",
       " 'occupation': array([20,  6, 20, ..., 18,  3, 13]),\n",
       " 'zip_code': array([415,   0, 311, ..., 715, 243,  58]),\n",
       " 'genre': array([[ 1,  0,  0,  0,  0,  0],\n",
       "        [ 2,  3,  4,  0,  0,  0],\n",
       "        [ 2,  1,  5,  0,  0,  0],\n",
       "        ...,\n",
       "        [ 1,  9,  0,  0,  0,  0],\n",
       "        [ 3,  0,  0,  0,  0,  0],\n",
       "        [12,  6,  0,  0,  0,  0]])}"
      ]
     },
     "execution_count": 10,
     "metadata": {},
     "output_type": "execute_result"
    }
   ],
   "source": [
    "model_input"
   ]
  },
  {
   "cell_type": "code",
   "execution_count": 11,
   "metadata": {},
   "outputs": [
    {
     "name": "stdout",
     "output_type": "stream",
     "text": [
      "Train on 80000 samples, validate on 20000 samples\n",
      "Epoch 1/15\n",
      "80000/80000 - 3s - loss: 2.9471 - mse: 2.9470 - val_loss: 0.9100 - val_mse: 0.9099\n",
      "Epoch 2/15\n",
      "80000/80000 - 1s - loss: 0.8839 - mse: 0.8837 - val_loss: 0.8816 - val_mse: 0.8814\n",
      "Epoch 3/15\n",
      "80000/80000 - 1s - loss: 0.8653 - mse: 0.8651 - val_loss: 0.8768 - val_mse: 0.8766\n",
      "Epoch 4/15\n",
      "80000/80000 - 1s - loss: 0.8547 - mse: 0.8545 - val_loss: 0.8718 - val_mse: 0.8716\n",
      "Epoch 5/15\n",
      "80000/80000 - 1s - loss: 0.8385 - mse: 0.8382 - val_loss: 0.8590 - val_mse: 0.8587\n",
      "Epoch 6/15\n",
      "80000/80000 - 1s - loss: 0.8275 - mse: 0.8272 - val_loss: 0.8541 - val_mse: 0.8538\n",
      "Epoch 7/15\n",
      "80000/80000 - 1s - loss: 0.8205 - mse: 0.8202 - val_loss: 0.8589 - val_mse: 0.8586\n",
      "Epoch 8/15\n",
      "80000/80000 - 1s - loss: 0.8120 - mse: 0.8117 - val_loss: 0.8535 - val_mse: 0.8532\n",
      "Epoch 9/15\n",
      "80000/80000 - 1s - loss: 0.8040 - mse: 0.8037 - val_loss: 0.8493 - val_mse: 0.8490\n",
      "Epoch 10/15\n",
      "80000/80000 - 1s - loss: 0.7944 - mse: 0.7940 - val_loss: 0.8460 - val_mse: 0.8456\n",
      "Epoch 11/15\n",
      "80000/80000 - 1s - loss: 0.7870 - mse: 0.7866 - val_loss: 0.8433 - val_mse: 0.8428\n",
      "Epoch 12/15\n",
      "80000/80000 - 1s - loss: 0.7775 - mse: 0.7770 - val_loss: 0.8499 - val_mse: 0.8494\n",
      "Epoch 13/15\n",
      "80000/80000 - 1s - loss: 0.7693 - mse: 0.7688 - val_loss: 0.8395 - val_mse: 0.8390\n",
      "Epoch 14/15\n",
      "80000/80000 - 1s - loss: 0.7604 - mse: 0.7599 - val_loss: 0.8463 - val_mse: 0.8458\n",
      "Epoch 15/15\n",
      "80000/80000 - 1s - loss: 0.7508 - mse: 0.7503 - val_loss: 0.8438 - val_mse: 0.8432\n"
     ]
    }
   ],
   "source": [
    "# 4.Define Model,compile and train\n",
    "model = DeepFM(linear_feature_columns,\n",
    "               dnn_feature_columns,\n",
    "               task='regression')\n",
    "\n",
    "model.compile(optimizer = \"adam\", loss =  \"mse\", metrics=['mse'], )\n",
    "history = model.fit(model_input,\n",
    "                    data[target].values,\n",
    "                    batch_size=512, \n",
    "                    epochs=15, \n",
    "                    verbose=2, \n",
    "                    validation_split=0.2 )"
   ]
  },
  {
   "cell_type": "code",
   "execution_count": 12,
   "metadata": {},
   "outputs": [],
   "source": [
    "import matplotlib.pyplot as plt \n",
    "%matplotlib inline  "
   ]
  },
  {
   "cell_type": "code",
   "execution_count": 13,
   "metadata": {},
   "outputs": [
    {
     "data": {
      "image/png": "[encoded data removed]",
      "text/plain": [
       "<Figure size 864x576 with 1 Axes>"
      ]
     },
     "metadata": {
      "needs_background": "light"
     },
     "output_type": "display_data"
    }
   ],
   "source": [
    "def plot_learning_curves(history):\n",
    "    pd.DataFrame(history.history).plot(figsize=(12, 8))\n",
    "    plt.grid(True)\n",
    "    plt.gca().set_ylim(0.6,3)\n",
    "    plt.show()\n",
    "plot_learning_curves(history)"
   ]
  },
  {
   "cell_type": "code",
   "execution_count": 14,
   "metadata": {},
   "outputs": [
    {
     "data": {
      "text/plain": [
       "[<matplotlib.lines.Line2D at 0x149cc1adfc8>]"
      ]
     },
     "execution_count": 14,
     "metadata": {},
     "output_type": "execute_result"
    },
    {
     "data": {
      "image/png": "[encoded data removed]",
      "text/plain": [
       "<Figure size 432x288 with 1 Axes>"
      ]
     },
     "metadata": {
      "needs_background": "light"
     },
     "output_type": "display_data"
    }
   ],
   "source": [
    "plt.plot( history.history['loss'])"
   ]
  },
  {
   "cell_type": "code",
   "execution_count": 15,
   "metadata": {},
   "outputs": [
    {
     "data": {
      "text/plain": [
       "[<matplotlib.lines.Line2D at 0x149cc222248>]"
      ]
     },
     "execution_count": 15,
     "metadata": {},
     "output_type": "execute_result"
    },
    {
     "data": {
      "image/png": "[encoded data removed]",
      "text/plain": [
       "<Figure size 432x288 with 1 Axes>"
      ]
     },
     "metadata": {
      "needs_background": "light"
     },
     "output_type": "display_data"
    }
   ],
   "source": [
    "plt.plot( history.history['mse'])"
   ]
  },
  {
   "cell_type": "code",
   "execution_count": 16,
   "metadata": {},
   "outputs": [
    {
     "data": {
      "text/plain": [
       "[<matplotlib.lines.Line2D at 0x149cc288c88>]"
      ]
     },
     "execution_count": 16,
     "metadata": {},
     "output_type": "execute_result"
    },
    {
     "data": {
      "image/png": "[encoded data removed]",
      "text/plain": [
       "<Figure size 432x288 with 1 Axes>"
      ]
     },
     "metadata": {
      "needs_background": "light"
     },
     "output_type": "display_data"
    }
   ],
   "source": [
    "plt.plot( history.history['val_mse'])"
   ]
  },
  {
   "cell_type": "code",
   "execution_count": null,
   "metadata": {},
   "outputs": [],
   "source": []
  }
 ],
 "metadata": {
  "kernelspec": {
   "display_name": "Python 3",
   "language": "python",
   "name": "python3"
  },
  "language_info": {
   "codemirror_mode": {
    "name": "ipython",
    "version": 3
   },
   "file_extension": ".py",
   "mimetype": "text/x-python",
   "name": "python",
   "nbconvert_exporter": "python",
   "pygments_lexer": "ipython3",
   "version": "3.7.4"
  }
 },
 "nbformat": 4,
 "nbformat_minor": 4
}
