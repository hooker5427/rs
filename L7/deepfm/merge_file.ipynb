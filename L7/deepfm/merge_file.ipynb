{
 "cells": [
  {
   "cell_type": "code",
   "execution_count": null,
   "metadata": {},
   "outputs": [],
   "source": [
    "user_list =[] \n",
    "f =  open('./u.user' ,'r') \n",
    "user_list =[]\n",
    "while True:\n",
    "    d ={}\n",
    "    #1|24|M|technician|85711\n",
    "    line = f.readline()\n",
    "    if not line :\n",
    "        break \n",
    "    user_id , age , gender , occupation , zip_code = line.strip().split(\"|\")\n",
    "    d['age'] = age \n",
    "    d['gender'] = gender \n",
    "    d['occupation'] = occupation \n",
    "    d['zip_code'] = zip_code \n",
    "    user_list.append( d)\n"
   ]
  },
  {
   "cell_type": "code",
   "execution_count": null,
   "metadata": {},
   "outputs": [],
   "source": [
    "def  get_info( u ) :\n",
    "    print (u)\n",
    "    return  user_list[u]['age'] ,\\\n",
    "            user_list[u]['gender'] ,\\\n",
    "            user_list[u]['occupation'] ,\\\n",
    "            user_list[u]['zip_code']"
   ]
  },
  {
   "cell_type": "code",
   "execution_count": null,
   "metadata": {},
   "outputs": [],
   "source": [
    "path = \"./u.data\" \n",
    "f = open(path  )\n",
    "infos =[]\n",
    "while True :\n",
    "    line = f.readline()\n",
    "    if not line :\n",
    "        break\n",
    "    userid , itemid , rating , timestamp = line.strip().split(\"\\t\")\n",
    "    age  ,gender, occupation ,zip_code = get_info(int(userid) -1 )\n",
    "    infos.append ([userid , itemid , rating ,\n",
    "                   timestamp ,age  ,gender,\n",
    "                   occupation ,zip_code] )\n",
    "  "
   ]
  },
  {
   "cell_type": "code",
   "execution_count": null,
   "metadata": {},
   "outputs": [],
   "source": [
    "infos[0]"
   ]
  },
  {
   "cell_type": "code",
   "execution_count": null,
   "metadata": {},
   "outputs": [],
   "source": [
    "path = \"./u.genre\" \n",
    "f = open(path  )\n",
    "genres =  f.readlines()\n",
    "d ={}\n",
    "for line in genres[ 0 :-1]:\n",
    "    mode , mtypeid  = line.strip().split(\"|\")\n",
    "    if mode ==\"Children's\" :\n",
    "        mode = 'Children'\n",
    "    d[mode] = mtypeid\n",
    "f.close()"
   ]
  },
  {
   "cell_type": "code",
   "execution_count": null,
   "metadata": {},
   "outputs": [],
   "source": [
    "d_r = { v:k for k,v in d.items()}"
   ]
  },
  {
   "cell_type": "code",
   "execution_count": null,
   "metadata": {},
   "outputs": [],
   "source": [
    "d_r"
   ]
  },
  {
   "cell_type": "code",
   "execution_count": null,
   "metadata": {},
   "outputs": [],
   "source": [
    "line =\"1|Toy Story (1995)|01-Jan-1995||http://us.imdb.com/M/title-exact?Toy%20Story%20(1995)|0|0|0|1|1|1|0|0|0|0|0|0|0|0|0|0|0|0|0\""
   ]
  },
  {
   "cell_type": "code",
   "execution_count": null,
   "metadata": {},
   "outputs": [],
   "source": [
    "f = open('./u.item' ,\"rb\"  ) \n",
    "m_list = []\n",
    "while True:\n",
    "    d = {}\n",
    "    line = f.readline()\n",
    "    line = line.decode(\"utf-8\" , errors='ignore')\n",
    "    if not line :\n",
    "        break \n",
    "    typeids= line.split(\"|\" , 5)[-1]\n",
    "    l = typeids.split(\"|\")\n",
    "    mid = line.split(\"|\" , 5)[0]\n",
    "    d[mid] = get_movie(l) \n",
    "    m_list.append( d )\n",
    "f.close()"
   ]
  },
  {
   "cell_type": "code",
   "execution_count": null,
   "metadata": {},
   "outputs": [],
   "source": [
    "import pandas as pd \n",
    "df1 = pd.DataFrame.from_dict( m_list)"
   ]
  },
  {
   "cell_type": "code",
   "execution_count": null,
   "metadata": {},
   "outputs": [],
   "source": [
    "def get_movie( l ) :\n",
    "    indexs = [ i for i , v in enumerate(l ) if v =='1']\n",
    "    return   \"|\".join(  [d_r[str(i)] for i in indexs] ) \n"
   ]
  },
  {
   "cell_type": "code",
   "execution_count": null,
   "metadata": {},
   "outputs": [],
   "source": [
    "for  i , item  in enumerate(infos):\n",
    "    mid = item[0]\n",
    "    grens =  m_list[ int(mid) -1 ][mid]\n",
    "    infos[i].append(grens )"
   ]
  },
  {
   "cell_type": "code",
   "execution_count": null,
   "metadata": {},
   "outputs": [],
   "source": [
    "cols = [ 'user_id' , 'movie_id' , 'rating' ,\n",
    "                   'timestamp' ,'age'  ,'gender',\n",
    "                   'occupation' ,'zip_code' ,'genre ']\n",
    "pd.DataFrame(infos).to_csv(\"ml-100k.csv\" ,index =None , header= cols )"
   ]
  },
  {
   "cell_type": "code",
   "execution_count": null,
   "metadata": {},
   "outputs": [],
   "source": [
    "pd.read_csv(\"ml-100k.csv\")"
   ]
  },
  {
   "cell_type": "code",
   "execution_count": null,
   "metadata": {},
   "outputs": [],
   "source": []
  }
 ],
 "metadata": {
  "kernelspec": {
   "display_name": "Python 3",
   "language": "python",
   "name": "python3"
  },
  "language_info": {
   "codemirror_mode": {
    "name": "ipython",
    "version": 3
   },
   "file_extension": ".py",
   "mimetype": "text/x-python",
   "name": "python",
   "nbconvert_exporter": "python",
   "pygments_lexer": "ipython3",
   "version": "3.7.4"
  }
 },
 "nbformat": 4,
 "nbformat_minor": 4
}
