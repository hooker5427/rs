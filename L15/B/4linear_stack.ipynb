{
 "cells": [
  {
   "cell_type": "code",
   "execution_count": 2,
   "metadata": {},
   "outputs": [
    {
     "name": "stderr",
     "output_type": "stream",
     "text": [
      "UsageError: Line magic function `%amtplotlib` not found.\n"
     ]
    }
   ],
   "source": [
    "import pandas as pd \n",
    "import numpy as np \n",
    "import matplotlib.pyplot as plt \n",
    "%amtplotlib inline "
   ]
  },
  {
   "cell_type": "code",
   "execution_count": 3,
   "metadata": {},
   "outputs": [],
   "source": [
    "xgb_result_path = 'submit_xgb_probility.csv'\n",
    "lgb_result_path =\"submit_lgb_probility\""
   ]
  },
  {
   "cell_type": "code",
   "execution_count": 4,
   "metadata": {},
   "outputs": [],
   "source": [
    "oof_xgb= pd.read_csv(\"train_xgb_result.csv\")\n",
    "oof_lgb = pd.read_csv(\"train_lgb_result.csv\")\n",
    "predictions_xgb = pd.read_csv(\"submit_xgb_probility.csv\")\n",
    "predictions_lgb = pd.read_csv(\"submit_lgb_probility.csv\") "
   ]
  },
  {
   "cell_type": "code",
   "execution_count": 9,
   "metadata": {},
   "outputs": [
    {
     "data": {
      "text/html": [
       "<div>\n",
       "<style scoped>\n",
       "    .dataframe tbody tr th:only-of-type {\n",
       "        vertical-align: middle;\n",
       "    }\n",
       "\n",
       "    .dataframe tbody tr th {\n",
       "        vertical-align: top;\n",
       "    }\n",
       "\n",
       "    .dataframe thead th {\n",
       "        text-align: right;\n",
       "    }\n",
       "</style>\n",
       "<table border=\"1\" class=\"dataframe\">\n",
       "  <thead>\n",
       "    <tr style=\"text-align: right;\">\n",
       "      <th></th>\n",
       "      <th>Unnamed: 0</th>\n",
       "      <th>sid</th>\n",
       "      <th>label</th>\n",
       "    </tr>\n",
       "  </thead>\n",
       "  <tbody>\n",
       "    <tr>\n",
       "      <th>0</th>\n",
       "      <td>0</td>\n",
       "      <td>66102</td>\n",
       "      <td>0.218912</td>\n",
       "    </tr>\n",
       "    <tr>\n",
       "      <th>1</th>\n",
       "      <td>1</td>\n",
       "      <td>90780</td>\n",
       "      <td>0.568260</td>\n",
       "    </tr>\n",
       "    <tr>\n",
       "      <th>2</th>\n",
       "      <td>2</td>\n",
       "      <td>115831</td>\n",
       "      <td>0.069121</td>\n",
       "    </tr>\n",
       "    <tr>\n",
       "      <th>3</th>\n",
       "      <td>3</td>\n",
       "      <td>111132</td>\n",
       "      <td>0.069065</td>\n",
       "    </tr>\n",
       "    <tr>\n",
       "      <th>4</th>\n",
       "      <td>4</td>\n",
       "      <td>103171</td>\n",
       "      <td>0.896793</td>\n",
       "    </tr>\n",
       "    <tr>\n",
       "      <th>...</th>\n",
       "      <td>...</td>\n",
       "      <td>...</td>\n",
       "      <td>...</td>\n",
       "    </tr>\n",
       "    <tr>\n",
       "      <th>149995</th>\n",
       "      <td>149995</td>\n",
       "      <td>24950</td>\n",
       "      <td>0.901183</td>\n",
       "    </tr>\n",
       "    <tr>\n",
       "      <th>149996</th>\n",
       "      <td>149996</td>\n",
       "      <td>66628</td>\n",
       "      <td>0.908581</td>\n",
       "    </tr>\n",
       "    <tr>\n",
       "      <th>149997</th>\n",
       "      <td>149997</td>\n",
       "      <td>20269</td>\n",
       "      <td>0.908655</td>\n",
       "    </tr>\n",
       "    <tr>\n",
       "      <th>149998</th>\n",
       "      <td>149998</td>\n",
       "      <td>104797</td>\n",
       "      <td>0.936764</td>\n",
       "    </tr>\n",
       "    <tr>\n",
       "      <th>149999</th>\n",
       "      <td>149999</td>\n",
       "      <td>30320</td>\n",
       "      <td>0.930452</td>\n",
       "    </tr>\n",
       "  </tbody>\n",
       "</table>\n",
       "<p>150000 rows × 3 columns</p>\n",
       "</div>"
      ],
      "text/plain": [
       "        Unnamed: 0     sid     label\n",
       "0                0   66102  0.218912\n",
       "1                1   90780  0.568260\n",
       "2                2  115831  0.069121\n",
       "3                3  111132  0.069065\n",
       "4                4  103171  0.896793\n",
       "...            ...     ...       ...\n",
       "149995      149995   24950  0.901183\n",
       "149996      149996   66628  0.908581\n",
       "149997      149997   20269  0.908655\n",
       "149998      149998  104797  0.936764\n",
       "149999      149999   30320  0.930452\n",
       "\n",
       "[150000 rows x 3 columns]"
      ]
     },
     "execution_count": 9,
     "metadata": {},
     "output_type": "execute_result"
    }
   ],
   "source": [
    "predictions_xgb"
   ]
  },
  {
   "cell_type": "code",
   "execution_count": 10,
   "metadata": {},
   "outputs": [
    {
     "name": "stdout",
     "output_type": "stream",
     "text": [
      "CV score: 0.10325199\n"
     ]
    }
   ],
   "source": [
    "from sklearn import linear_model\n",
    "from  sklearn.model_selection import RepeatedKFold\n",
    "from sklearn.metrics import mean_squared_error \n",
    "\n",
    "\n",
    "oof_lgb= oof_lgb['label']\n",
    "oof_xgb= oof_xgb['label']\n",
    "predictions_lgb= predictions_lgb['label']\n",
    "predictions_xgb= predictions_xgb['label']\n",
    "\n",
    "train  =pd.read_csv( 'train_lightgbm.csv' )\n",
    "X= train.drop('label' ,axis =1 )\n",
    "Y= train['label']\n",
    "\n",
    "# 将lgb和xgb和ctb的结果进行stacking\n",
    "train_stack =  pd.concat( [ pd.Series(oof_lgb ) ,pd.Series( oof_xgb ) ] ,axis =1 ) \n",
    "test_stack = pd.concat( [ pd.Series(predictions_lgb) ,\n",
    "                         pd.Series( predictions_xgb )  ] ,axis =1 ) \n",
    "\n",
    "\n",
    "folds_stack = RepeatedKFold(n_splits=5, n_repeats=2, random_state=17)\n",
    "oof_stack = np.zeros(train_stack.shape[0])\n",
    "predictions = np.zeros(test_stack.shape[0])\n",
    "\n",
    "for fold_, (trn_idx, val_idx) in enumerate(folds_stack.split(train_stack,Y)):\n",
    "    trn_data, trn_y = train_stack.iloc[ trn_idx,: ], Y.iloc[trn_idx ]\n",
    "    val_data, val_y = train_stack.iloc[ val_idx ,:  ], Y.iloc[val_idx]\n",
    "\n",
    "    clf_stack =linear_model.LinearRegression()\n",
    "    clf_stack.fit(trn_data, trn_y)\n",
    "    \n",
    "    oof_stack[val_idx] = clf_stack.predict(val_data)\n",
    "    predictions += clf_stack.predict(test_stack) / 10\n",
    "    \n",
    "print(\"CV score: {:<8.8f}\".format(mean_squared_error(oof_stack, Y)))"
   ]
  },
  {
   "cell_type": "code",
   "execution_count": 12,
   "metadata": {},
   "outputs": [
    {
     "data": {
      "text/plain": [
       "500000"
      ]
     },
     "execution_count": 12,
     "metadata": {},
     "output_type": "execute_result"
    }
   ],
   "source": [
    "len(oof_stack)"
   ]
  },
  {
   "cell_type": "code",
   "execution_count": 13,
   "metadata": {},
   "outputs": [],
   "source": [
    "y_hat =[]\n",
    "for  y in oof_stack:\n",
    "    if y>0.5:\n",
    "        y_hat.append(1) \n",
    "    else :\n",
    "        y_hat.append(0)"
   ]
  },
  {
   "cell_type": "code",
   "execution_count": 14,
   "metadata": {},
   "outputs": [
    {
     "data": {
      "text/plain": [
       "0.859794"
      ]
     },
     "execution_count": 14,
     "metadata": {},
     "output_type": "execute_result"
    }
   ],
   "source": [
    "from sklearn.metrics import accuracy_score \n",
    "y = train['label'].values\n",
    "accuracy_score( y, y_hat ) # 训练集合"
   ]
  },
  {
   "cell_type": "code",
   "execution_count": 21,
   "metadata": {},
   "outputs": [],
   "source": [
    "test=pd.read_csv( 'test_lightgbm.csv')\n",
    "test['label'] = predictions\n",
    "test[['sid'  , 'label']].to_csv('submit_probility.csv')\n",
    "test['label']  = test['label'] .map( lambda x : 1 if x>0.5 else 0 )\n",
    "y_hat = test [['sid' ,'label']].sort_values(by ='sid')['label'].values\n",
    "\n",
    "test_ans = pd.read_csv(\"../test1_ans.csv\")\n",
    "y_true = test_ans.sort_values(by ='sid')['label'].values\n",
    "test[['sid'  , 'label']].to_csv('submit.csv'  ,index =False )"
   ]
  },
  {
   "cell_type": "code",
   "execution_count": 17,
   "metadata": {},
   "outputs": [
    {
     "data": {
      "text/plain": [
       "0.8510066666666667"
      ]
     },
     "execution_count": 17,
     "metadata": {},
     "output_type": "execute_result"
    }
   ],
   "source": [
    "accuracy_score( y_true , y_hat )"
   ]
  },
  {
   "cell_type": "code",
   "execution_count": 18,
   "metadata": {},
   "outputs": [
    {
     "data": {
      "text/plain": [
       "0         0.218912\n",
       "1         0.568260\n",
       "2         0.069121\n",
       "3         0.069065\n",
       "4         0.896793\n",
       "            ...   \n",
       "149995    0.901183\n",
       "149996    0.908581\n",
       "149997    0.908655\n",
       "149998    0.936764\n",
       "149999    0.930452\n",
       "Name: label, Length: 150000, dtype: float64"
      ]
     },
     "execution_count": 18,
     "metadata": {},
     "output_type": "execute_result"
    }
   ],
   "source": [
    "predictions_xgb"
   ]
  },
  {
   "cell_type": "code",
   "execution_count": 19,
   "metadata": {},
   "outputs": [
    {
     "data": {
      "text/plain": [
       "0         0.185634\n",
       "1         0.655126\n",
       "2         0.077574\n",
       "3         0.058751\n",
       "4         0.878399\n",
       "            ...   \n",
       "149995    0.914457\n",
       "149996    0.954450\n",
       "149997    0.862711\n",
       "149998    0.958750\n",
       "149999    0.950658\n",
       "Name: label, Length: 150000, dtype: float64"
      ]
     },
     "execution_count": 19,
     "metadata": {},
     "output_type": "execute_result"
    }
   ],
   "source": [
    "predictions_lgb"
   ]
  },
  {
   "cell_type": "code",
   "execution_count": 20,
   "metadata": {},
   "outputs": [
    {
     "data": {
      "text/plain": [
       "array([0.20041622, 0.60789016, 0.06681428, ..., 0.89475164, 0.95322598,\n",
       "       0.94603592])"
      ]
     },
     "execution_count": 20,
     "metadata": {},
     "output_type": "execute_result"
    }
   ],
   "source": [
    "predictions"
   ]
  },
  {
   "cell_type": "code",
   "execution_count": null,
   "metadata": {},
   "outputs": [],
   "source": []
  }
 ],
 "metadata": {
  "kernelspec": {
   "display_name": "tensorflow2.1",
   "language": "python",
   "name": "tf2"
  },
  "language_info": {
   "codemirror_mode": {
    "name": "ipython",
    "version": 3
   },
   "file_extension": ".py",
   "mimetype": "text/x-python",
   "name": "python",
   "nbconvert_exporter": "python",
   "pygments_lexer": "ipython3",
   "version": "3.7.0"
  }
 },
 "nbformat": 4,
 "nbformat_minor": 4
}
